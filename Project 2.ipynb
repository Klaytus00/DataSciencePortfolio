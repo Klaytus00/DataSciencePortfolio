{
 "cells": [
  {
   "cell_type": "markdown",
   "id": "6cbccbce-5b51-4905-ab27-ad7e3c4e2516",
   "metadata": {},
   "source": [
    "PREDICTING PRICE WITH CITY\n",
    "\n",
    "Goal\n",
    "\n",
    "Build a model to predict house price based on city"
   ]
  },
  {
   "cell_type": "code",
   "execution_count": 1,
   "id": "accb794e-b3e8-4da3-8c0a-40436e75d62e",
   "metadata": {},
   "outputs": [],
   "source": [
    "#Import Libraries\n",
    "import pandas as pd\n",
    "import warnings\n",
    "import numpy as np\n",
    "import plotly.express as px\n",
    "import matplotlib.pyplot as plt\n",
    "from category_encoders import OneHotEncoder\n",
    "from sklearn.impute import SimpleImputer\n",
    "from sklearn.linear_model import LinearRegression, Ridge\n",
    "from sklearn.metrics import mean_absolute_error\n",
    "from sklearn.pipeline import Pipeline, make_pipeline\n",
    "from sklearn.utils.validation import check_is_fitted\n",
    "warnings.simplefilter(action=\"ignore\", category=UserWarning)"
   ]
  },
  {
   "cell_type": "markdown",
   "id": "2bcaf00b-bc5f-4426-a9ea-48c83378b83a",
   "metadata": {},
   "source": [
    "For this project i would be using a wrangle function to clean my data"
   ]
  },
  {
   "cell_type": "code",
   "execution_count": 2,
   "id": "2354eb8c-4d38-42fb-b486-ad79d1e45352",
   "metadata": {},
   "outputs": [],
   "source": [
    "def wrangle(filepath):\n",
    "    #Read csv file\n",
    "    df = pd.read_csv(filepath)\n",
    "    df.drop(columns=\"prev_sold_date\", inplace=True)\n",
    "    #drop NAN values\n",
    "    df.dropna(how=\"any\", inplace=True)\n",
    "    #Create a new column called \"price_in_USD\" using \"price\"\n",
    "    df[\"price_in_USD\"] = df[\"price\"].astype(int)\n",
    "    #Convert \"acre_lot\" to m2\n",
    "    df[\"area_in_m2\"] = (df[\"acre_lot\"] * 4_046.86).astype(int)\n",
    "    #Calculate price per m2\n",
    "    df[\"price_per_m2\"] = (df[\"price_in_USD\"] / df[\"area_in_m2\"]).round(0)\n",
    "    #Subset Data: i would be focusing on the houses in the state \"Puerto Rico\" < 400,000 and that are for_sale\n",
    "    mask_sale=df[\"status\"]==\"for_sale\"\n",
    "    mask_state=df[\"state\"]==\"Puerto Rico\"\n",
    "    mask_price = df[\"price_in_USD\"]< 400_000\n",
    "    df=df[mask_sale & mask_state & mask_price]\n",
    "    #Subset Data: Remove outliers in \"area_in_m2\"\n",
    "    low,high=df[\"area_in_m2\"].quantile([0.1,0.9])\n",
    "    mask_area = df[\"area_in_m2\"].between(low,high)\n",
    "    df = df[mask_area]\n",
    "    df.drop(columns=[\"street\",\"state\",\"zip_code\",\"house_size\",\"brokered_by\",\"status\",\"price\",\"bed\",\"bath\",\"acre_lot\"], inplace=True)\n",
    "    df = df.reset_index(drop=True)\n",
    "    return df\n",
    "    "
   ]
  },
  {
   "cell_type": "code",
   "execution_count": 3,
   "id": "e14d1484-d9a4-4b87-8d00-c754f32b906a",
   "metadata": {},
   "outputs": [],
   "source": [
    "df = wrangle(\"realtor-data.csv\")"
   ]
  },
  {
   "cell_type": "code",
   "execution_count": 4,
   "id": "082f0836-a938-4ce3-94a2-6b47a3182813",
   "metadata": {},
   "outputs": [
    {
     "data": {
      "text/html": [
       "<div>\n",
       "<style scoped>\n",
       "    .dataframe tbody tr th:only-of-type {\n",
       "        vertical-align: middle;\n",
       "    }\n",
       "\n",
       "    .dataframe tbody tr th {\n",
       "        vertical-align: top;\n",
       "    }\n",
       "\n",
       "    .dataframe thead th {\n",
       "        text-align: right;\n",
       "    }\n",
       "</style>\n",
       "<table border=\"1\" class=\"dataframe\">\n",
       "  <thead>\n",
       "    <tr style=\"text-align: right;\">\n",
       "      <th></th>\n",
       "      <th>city</th>\n",
       "      <th>price_in_USD</th>\n",
       "      <th>area_in_m2</th>\n",
       "      <th>price_per_m2</th>\n",
       "    </tr>\n",
       "  </thead>\n",
       "  <tbody>\n",
       "    <tr>\n",
       "      <th>924</th>\n",
       "      <td>Carolina</td>\n",
       "      <td>145000</td>\n",
       "      <td>364</td>\n",
       "      <td>398.0</td>\n",
       "    </tr>\n",
       "    <tr>\n",
       "      <th>925</th>\n",
       "      <td>Carolina</td>\n",
       "      <td>72500</td>\n",
       "      <td>242</td>\n",
       "      <td>300.0</td>\n",
       "    </tr>\n",
       "    <tr>\n",
       "      <th>926</th>\n",
       "      <td>Carolina</td>\n",
       "      <td>100000</td>\n",
       "      <td>323</td>\n",
       "      <td>310.0</td>\n",
       "    </tr>\n",
       "    <tr>\n",
       "      <th>927</th>\n",
       "      <td>Carolina</td>\n",
       "      <td>130000</td>\n",
       "      <td>323</td>\n",
       "      <td>402.0</td>\n",
       "    </tr>\n",
       "    <tr>\n",
       "      <th>928</th>\n",
       "      <td>Carolina</td>\n",
       "      <td>147000</td>\n",
       "      <td>364</td>\n",
       "      <td>404.0</td>\n",
       "    </tr>\n",
       "  </tbody>\n",
       "</table>\n",
       "</div>"
      ],
      "text/plain": [
       "         city  price_in_USD  area_in_m2  price_per_m2\n",
       "924  Carolina        145000         364         398.0\n",
       "925  Carolina         72500         242         300.0\n",
       "926  Carolina        100000         323         310.0\n",
       "927  Carolina        130000         323         402.0\n",
       "928  Carolina        147000         364         404.0"
      ]
     },
     "execution_count": 4,
     "metadata": {},
     "output_type": "execute_result"
    }
   ],
   "source": [
    "df.tail()"
   ]
  },
  {
   "cell_type": "markdown",
   "id": "30344f78-df17-4d1d-92c9-e7d6a4c3dde7",
   "metadata": {},
   "source": [
    "Spliting my data to creating my test dataset"
   ]
  },
  {
   "cell_type": "code",
   "execution_count": 5,
   "id": "da84ebff-d61f-4610-801d-bf3255a83597",
   "metadata": {},
   "outputs": [],
   "source": [
    "cutoff = int(len(df) * 0.8)"
   ]
  },
  {
   "cell_type": "code",
   "execution_count": 6,
   "id": "0bee440b-1686-4569-a6ff-35638de3d95a",
   "metadata": {},
   "outputs": [
    {
     "data": {
      "text/html": [
       "<div>\n",
       "<style scoped>\n",
       "    .dataframe tbody tr th:only-of-type {\n",
       "        vertical-align: middle;\n",
       "    }\n",
       "\n",
       "    .dataframe tbody tr th {\n",
       "        vertical-align: top;\n",
       "    }\n",
       "\n",
       "    .dataframe thead th {\n",
       "        text-align: right;\n",
       "    }\n",
       "</style>\n",
       "<table border=\"1\" class=\"dataframe\">\n",
       "  <thead>\n",
       "    <tr style=\"text-align: right;\">\n",
       "      <th></th>\n",
       "      <th>city</th>\n",
       "      <th>price_in_USD</th>\n",
       "      <th>area_in_m2</th>\n",
       "      <th>price_per_m2</th>\n",
       "    </tr>\n",
       "  </thead>\n",
       "  <tbody>\n",
       "    <tr>\n",
       "      <th>738</th>\n",
       "      <td>Carolina</td>\n",
       "      <td>99900</td>\n",
       "      <td>323</td>\n",
       "      <td>309.0</td>\n",
       "    </tr>\n",
       "    <tr>\n",
       "      <th>739</th>\n",
       "      <td>Carolina</td>\n",
       "      <td>136000</td>\n",
       "      <td>242</td>\n",
       "      <td>562.0</td>\n",
       "    </tr>\n",
       "    <tr>\n",
       "      <th>740</th>\n",
       "      <td>Carolina</td>\n",
       "      <td>140000</td>\n",
       "      <td>1052</td>\n",
       "      <td>133.0</td>\n",
       "    </tr>\n",
       "    <tr>\n",
       "      <th>741</th>\n",
       "      <td>Canovanas</td>\n",
       "      <td>29900</td>\n",
       "      <td>364</td>\n",
       "      <td>82.0</td>\n",
       "    </tr>\n",
       "    <tr>\n",
       "      <th>742</th>\n",
       "      <td>Canovanas</td>\n",
       "      <td>115000</td>\n",
       "      <td>526</td>\n",
       "      <td>219.0</td>\n",
       "    </tr>\n",
       "  </tbody>\n",
       "</table>\n",
       "</div>"
      ],
      "text/plain": [
       "          city  price_in_USD  area_in_m2  price_per_m2\n",
       "738   Carolina         99900         323         309.0\n",
       "739   Carolina        136000         242         562.0\n",
       "740   Carolina        140000        1052         133.0\n",
       "741  Canovanas         29900         364          82.0\n",
       "742  Canovanas        115000         526         219.0"
      ]
     },
     "execution_count": 6,
     "metadata": {},
     "output_type": "execute_result"
    }
   ],
   "source": [
    "dt = df.iloc[:cutoff]\n",
    "dt.tail()"
   ]
  },
  {
   "cell_type": "code",
   "execution_count": 7,
   "id": "5c4c57f9-5fbb-4b85-a613-74ea1b61859a",
   "metadata": {},
   "outputs": [
    {
     "data": {
      "text/html": [
       "<div>\n",
       "<style scoped>\n",
       "    .dataframe tbody tr th:only-of-type {\n",
       "        vertical-align: middle;\n",
       "    }\n",
       "\n",
       "    .dataframe tbody tr th {\n",
       "        vertical-align: top;\n",
       "    }\n",
       "\n",
       "    .dataframe thead th {\n",
       "        text-align: right;\n",
       "    }\n",
       "</style>\n",
       "<table border=\"1\" class=\"dataframe\">\n",
       "  <thead>\n",
       "    <tr style=\"text-align: right;\">\n",
       "      <th></th>\n",
       "      <th>city</th>\n",
       "      <th>price_in_USD</th>\n",
       "      <th>area_in_m2</th>\n",
       "      <th>price_per_m2</th>\n",
       "    </tr>\n",
       "  </thead>\n",
       "  <tbody>\n",
       "    <tr>\n",
       "      <th>743</th>\n",
       "      <td>Loiza</td>\n",
       "      <td>103000</td>\n",
       "      <td>242</td>\n",
       "      <td>426.0</td>\n",
       "    </tr>\n",
       "    <tr>\n",
       "      <th>744</th>\n",
       "      <td>Carolina</td>\n",
       "      <td>165000</td>\n",
       "      <td>364</td>\n",
       "      <td>453.0</td>\n",
       "    </tr>\n",
       "    <tr>\n",
       "      <th>745</th>\n",
       "      <td>Canovanas</td>\n",
       "      <td>49900</td>\n",
       "      <td>323</td>\n",
       "      <td>154.0</td>\n",
       "    </tr>\n",
       "    <tr>\n",
       "      <th>746</th>\n",
       "      <td>Canovanas</td>\n",
       "      <td>72000</td>\n",
       "      <td>404</td>\n",
       "      <td>178.0</td>\n",
       "    </tr>\n",
       "    <tr>\n",
       "      <th>747</th>\n",
       "      <td>Canovanas</td>\n",
       "      <td>65000</td>\n",
       "      <td>242</td>\n",
       "      <td>269.0</td>\n",
       "    </tr>\n",
       "  </tbody>\n",
       "</table>\n",
       "</div>"
      ],
      "text/plain": [
       "          city  price_in_USD  area_in_m2  price_per_m2\n",
       "743      Loiza        103000         242         426.0\n",
       "744   Carolina        165000         364         453.0\n",
       "745  Canovanas         49900         323         154.0\n",
       "746  Canovanas         72000         404         178.0\n",
       "747  Canovanas         65000         242         269.0"
      ]
     },
     "execution_count": 7,
     "metadata": {},
     "output_type": "execute_result"
    }
   ],
   "source": [
    "Test_data = df.iloc[cutoff:]\n",
    "Test_data.head()"
   ]
  },
  {
   "cell_type": "markdown",
   "id": "341987e7-91d8-4192-ab4f-4abdaee59243",
   "metadata": {},
   "source": [
    "Saving my test_data DataFrame in a CSV format"
   ]
  },
  {
   "cell_type": "markdown",
   "id": "b4cd862f-4120-44d9-9700-46d4ab097dfe",
   "metadata": {},
   "source": [
    "Test_data.to_csv(\"realtor-data_test.csv\", index=False)"
   ]
  },
  {
   "cell_type": "markdown",
   "id": "287d112c-17a5-4e1c-993d-3c9f572a19e8",
   "metadata": {},
   "source": [
    "Creating my feature matrix X_train and target vector y_train"
   ]
  },
  {
   "cell_type": "code",
   "execution_count": 8,
   "id": "e2d1a790-aad2-4e8b-9387-1956684dbdb8",
   "metadata": {},
   "outputs": [],
   "source": [
    "target = \"price_per_m2\"\n",
    "features = [\"city\"]\n",
    "y_train = dt[target]\n",
    "X_train = dt[features]"
   ]
  },
  {
   "cell_type": "markdown",
   "id": "2329b7ba-cb1e-4632-baf8-bdef9c0eb4dc",
   "metadata": {},
   "source": [
    "calculating the baseline mean absolute error for my model"
   ]
  },
  {
   "cell_type": "code",
   "execution_count": 9,
   "id": "5b09bd64-ee8c-4055-a466-22311ffa9c25",
   "metadata": {},
   "outputs": [
    {
     "name": "stdout",
     "output_type": "stream",
     "text": [
      "Mean_House_Price: 301.18\n",
      "Baseline_MAE: 155.26\n"
     ]
    }
   ],
   "source": [
    " y_mean = y_train.mean()\n",
    " y_pred_baseline = [y_mean] * len(y_train)\n",
    " Baseline_MAE = mean_absolute_error(y_train, y_pred_baseline)\n",
    " rounded_y_mean = round(y_mean, 2)\n",
    " rounded_Baseline_MAE = round(Baseline_MAE, 2)\n",
    " print(\"Mean_House_Price:\", rounded_y_mean)\n",
    " print(\"Baseline_MAE:\", rounded_Baseline_MAE)"
   ]
  },
  {
   "cell_type": "markdown",
   "id": "04d68f18-a80d-4f3d-a3f9-9f9dd9e835da",
   "metadata": {},
   "source": [
    "Now i build my model by creating a pipeline that contain all the transformers neccesary\n",
    "and a predictor"
   ]
  },
  {
   "cell_type": "code",
   "execution_count": 10,
   "id": "9cad58e9-3936-4530-ba20-88936fd8df51",
   "metadata": {},
   "outputs": [],
   "source": [
    " model = make_pipeline(\n",
    "     OneHotEncoder(use_cat_names=True),\n",
    "     SimpleImputer(),\n",
    "     Ridge()\n",
    " )"
   ]
  },
  {
   "cell_type": "code",
   "execution_count": 11,
   "id": "3ac8433f-3b73-47a2-9bd8-e37c225c17db",
   "metadata": {},
   "outputs": [
    {
     "data": {
      "text/html": [
       "<style>#sk-container-id-1 {\n",
       "  /* Definition of color scheme common for light and dark mode */\n",
       "  --sklearn-color-text: black;\n",
       "  --sklearn-color-line: gray;\n",
       "  /* Definition of color scheme for unfitted estimators */\n",
       "  --sklearn-color-unfitted-level-0: #fff5e6;\n",
       "  --sklearn-color-unfitted-level-1: #f6e4d2;\n",
       "  --sklearn-color-unfitted-level-2: #ffe0b3;\n",
       "  --sklearn-color-unfitted-level-3: chocolate;\n",
       "  /* Definition of color scheme for fitted estimators */\n",
       "  --sklearn-color-fitted-level-0: #f0f8ff;\n",
       "  --sklearn-color-fitted-level-1: #d4ebff;\n",
       "  --sklearn-color-fitted-level-2: #b3dbfd;\n",
       "  --sklearn-color-fitted-level-3: cornflowerblue;\n",
       "\n",
       "  /* Specific color for light theme */\n",
       "  --sklearn-color-text-on-default-background: var(--sg-text-color, var(--theme-code-foreground, var(--jp-content-font-color1, black)));\n",
       "  --sklearn-color-background: var(--sg-background-color, var(--theme-background, var(--jp-layout-color0, white)));\n",
       "  --sklearn-color-border-box: var(--sg-text-color, var(--theme-code-foreground, var(--jp-content-font-color1, black)));\n",
       "  --sklearn-color-icon: #696969;\n",
       "\n",
       "  @media (prefers-color-scheme: dark) {\n",
       "    /* Redefinition of color scheme for dark theme */\n",
       "    --sklearn-color-text-on-default-background: var(--sg-text-color, var(--theme-code-foreground, var(--jp-content-font-color1, white)));\n",
       "    --sklearn-color-background: var(--sg-background-color, var(--theme-background, var(--jp-layout-color0, #111)));\n",
       "    --sklearn-color-border-box: var(--sg-text-color, var(--theme-code-foreground, var(--jp-content-font-color1, white)));\n",
       "    --sklearn-color-icon: #878787;\n",
       "  }\n",
       "}\n",
       "\n",
       "#sk-container-id-1 {\n",
       "  color: var(--sklearn-color-text);\n",
       "}\n",
       "\n",
       "#sk-container-id-1 pre {\n",
       "  padding: 0;\n",
       "}\n",
       "\n",
       "#sk-container-id-1 input.sk-hidden--visually {\n",
       "  border: 0;\n",
       "  clip: rect(1px 1px 1px 1px);\n",
       "  clip: rect(1px, 1px, 1px, 1px);\n",
       "  height: 1px;\n",
       "  margin: -1px;\n",
       "  overflow: hidden;\n",
       "  padding: 0;\n",
       "  position: absolute;\n",
       "  width: 1px;\n",
       "}\n",
       "\n",
       "#sk-container-id-1 div.sk-dashed-wrapped {\n",
       "  border: 1px dashed var(--sklearn-color-line);\n",
       "  margin: 0 0.4em 0.5em 0.4em;\n",
       "  box-sizing: border-box;\n",
       "  padding-bottom: 0.4em;\n",
       "  background-color: var(--sklearn-color-background);\n",
       "}\n",
       "\n",
       "#sk-container-id-1 div.sk-container {\n",
       "  /* jupyter's `normalize.less` sets `[hidden] { display: none; }`\n",
       "     but bootstrap.min.css set `[hidden] { display: none !important; }`\n",
       "     so we also need the `!important` here to be able to override the\n",
       "     default hidden behavior on the sphinx rendered scikit-learn.org.\n",
       "     See: https://github.com/scikit-learn/scikit-learn/issues/21755 */\n",
       "  display: inline-block !important;\n",
       "  position: relative;\n",
       "}\n",
       "\n",
       "#sk-container-id-1 div.sk-text-repr-fallback {\n",
       "  display: none;\n",
       "}\n",
       "\n",
       "div.sk-parallel-item,\n",
       "div.sk-serial,\n",
       "div.sk-item {\n",
       "  /* draw centered vertical line to link estimators */\n",
       "  background-image: linear-gradient(var(--sklearn-color-text-on-default-background), var(--sklearn-color-text-on-default-background));\n",
       "  background-size: 2px 100%;\n",
       "  background-repeat: no-repeat;\n",
       "  background-position: center center;\n",
       "}\n",
       "\n",
       "/* Parallel-specific style estimator block */\n",
       "\n",
       "#sk-container-id-1 div.sk-parallel-item::after {\n",
       "  content: \"\";\n",
       "  width: 100%;\n",
       "  border-bottom: 2px solid var(--sklearn-color-text-on-default-background);\n",
       "  flex-grow: 1;\n",
       "}\n",
       "\n",
       "#sk-container-id-1 div.sk-parallel {\n",
       "  display: flex;\n",
       "  align-items: stretch;\n",
       "  justify-content: center;\n",
       "  background-color: var(--sklearn-color-background);\n",
       "  position: relative;\n",
       "}\n",
       "\n",
       "#sk-container-id-1 div.sk-parallel-item {\n",
       "  display: flex;\n",
       "  flex-direction: column;\n",
       "}\n",
       "\n",
       "#sk-container-id-1 div.sk-parallel-item:first-child::after {\n",
       "  align-self: flex-end;\n",
       "  width: 50%;\n",
       "}\n",
       "\n",
       "#sk-container-id-1 div.sk-parallel-item:last-child::after {\n",
       "  align-self: flex-start;\n",
       "  width: 50%;\n",
       "}\n",
       "\n",
       "#sk-container-id-1 div.sk-parallel-item:only-child::after {\n",
       "  width: 0;\n",
       "}\n",
       "\n",
       "/* Serial-specific style estimator block */\n",
       "\n",
       "#sk-container-id-1 div.sk-serial {\n",
       "  display: flex;\n",
       "  flex-direction: column;\n",
       "  align-items: center;\n",
       "  background-color: var(--sklearn-color-background);\n",
       "  padding-right: 1em;\n",
       "  padding-left: 1em;\n",
       "}\n",
       "\n",
       "\n",
       "/* Toggleable style: style used for estimator/Pipeline/ColumnTransformer box that is\n",
       "clickable and can be expanded/collapsed.\n",
       "- Pipeline and ColumnTransformer use this feature and define the default style\n",
       "- Estimators will overwrite some part of the style using the `sk-estimator` class\n",
       "*/\n",
       "\n",
       "/* Pipeline and ColumnTransformer style (default) */\n",
       "\n",
       "#sk-container-id-1 div.sk-toggleable {\n",
       "  /* Default theme specific background. It is overwritten whether we have a\n",
       "  specific estimator or a Pipeline/ColumnTransformer */\n",
       "  background-color: var(--sklearn-color-background);\n",
       "}\n",
       "\n",
       "/* Toggleable label */\n",
       "#sk-container-id-1 label.sk-toggleable__label {\n",
       "  cursor: pointer;\n",
       "  display: block;\n",
       "  width: 100%;\n",
       "  margin-bottom: 0;\n",
       "  padding: 0.5em;\n",
       "  box-sizing: border-box;\n",
       "  text-align: center;\n",
       "}\n",
       "\n",
       "#sk-container-id-1 label.sk-toggleable__label-arrow:before {\n",
       "  /* Arrow on the left of the label */\n",
       "  content: \"▸\";\n",
       "  float: left;\n",
       "  margin-right: 0.25em;\n",
       "  color: var(--sklearn-color-icon);\n",
       "}\n",
       "\n",
       "#sk-container-id-1 label.sk-toggleable__label-arrow:hover:before {\n",
       "  color: var(--sklearn-color-text);\n",
       "}\n",
       "\n",
       "/* Toggleable content - dropdown */\n",
       "\n",
       "#sk-container-id-1 div.sk-toggleable__content {\n",
       "  max-height: 0;\n",
       "  max-width: 0;\n",
       "  overflow: hidden;\n",
       "  text-align: left;\n",
       "  /* unfitted */\n",
       "  background-color: var(--sklearn-color-unfitted-level-0);\n",
       "}\n",
       "\n",
       "#sk-container-id-1 div.sk-toggleable__content.fitted {\n",
       "  /* fitted */\n",
       "  background-color: var(--sklearn-color-fitted-level-0);\n",
       "}\n",
       "\n",
       "#sk-container-id-1 div.sk-toggleable__content pre {\n",
       "  margin: 0.2em;\n",
       "  border-radius: 0.25em;\n",
       "  color: var(--sklearn-color-text);\n",
       "  /* unfitted */\n",
       "  background-color: var(--sklearn-color-unfitted-level-0);\n",
       "}\n",
       "\n",
       "#sk-container-id-1 div.sk-toggleable__content.fitted pre {\n",
       "  /* unfitted */\n",
       "  background-color: var(--sklearn-color-fitted-level-0);\n",
       "}\n",
       "\n",
       "#sk-container-id-1 input.sk-toggleable__control:checked~div.sk-toggleable__content {\n",
       "  /* Expand drop-down */\n",
       "  max-height: 200px;\n",
       "  max-width: 100%;\n",
       "  overflow: auto;\n",
       "}\n",
       "\n",
       "#sk-container-id-1 input.sk-toggleable__control:checked~label.sk-toggleable__label-arrow:before {\n",
       "  content: \"▾\";\n",
       "}\n",
       "\n",
       "/* Pipeline/ColumnTransformer-specific style */\n",
       "\n",
       "#sk-container-id-1 div.sk-label input.sk-toggleable__control:checked~label.sk-toggleable__label {\n",
       "  color: var(--sklearn-color-text);\n",
       "  background-color: var(--sklearn-color-unfitted-level-2);\n",
       "}\n",
       "\n",
       "#sk-container-id-1 div.sk-label.fitted input.sk-toggleable__control:checked~label.sk-toggleable__label {\n",
       "  background-color: var(--sklearn-color-fitted-level-2);\n",
       "}\n",
       "\n",
       "/* Estimator-specific style */\n",
       "\n",
       "/* Colorize estimator box */\n",
       "#sk-container-id-1 div.sk-estimator input.sk-toggleable__control:checked~label.sk-toggleable__label {\n",
       "  /* unfitted */\n",
       "  background-color: var(--sklearn-color-unfitted-level-2);\n",
       "}\n",
       "\n",
       "#sk-container-id-1 div.sk-estimator.fitted input.sk-toggleable__control:checked~label.sk-toggleable__label {\n",
       "  /* fitted */\n",
       "  background-color: var(--sklearn-color-fitted-level-2);\n",
       "}\n",
       "\n",
       "#sk-container-id-1 div.sk-label label.sk-toggleable__label,\n",
       "#sk-container-id-1 div.sk-label label {\n",
       "  /* The background is the default theme color */\n",
       "  color: var(--sklearn-color-text-on-default-background);\n",
       "}\n",
       "\n",
       "/* On hover, darken the color of the background */\n",
       "#sk-container-id-1 div.sk-label:hover label.sk-toggleable__label {\n",
       "  color: var(--sklearn-color-text);\n",
       "  background-color: var(--sklearn-color-unfitted-level-2);\n",
       "}\n",
       "\n",
       "/* Label box, darken color on hover, fitted */\n",
       "#sk-container-id-1 div.sk-label.fitted:hover label.sk-toggleable__label.fitted {\n",
       "  color: var(--sklearn-color-text);\n",
       "  background-color: var(--sklearn-color-fitted-level-2);\n",
       "}\n",
       "\n",
       "/* Estimator label */\n",
       "\n",
       "#sk-container-id-1 div.sk-label label {\n",
       "  font-family: monospace;\n",
       "  font-weight: bold;\n",
       "  display: inline-block;\n",
       "  line-height: 1.2em;\n",
       "}\n",
       "\n",
       "#sk-container-id-1 div.sk-label-container {\n",
       "  text-align: center;\n",
       "}\n",
       "\n",
       "/* Estimator-specific */\n",
       "#sk-container-id-1 div.sk-estimator {\n",
       "  font-family: monospace;\n",
       "  border: 1px dotted var(--sklearn-color-border-box);\n",
       "  border-radius: 0.25em;\n",
       "  box-sizing: border-box;\n",
       "  margin-bottom: 0.5em;\n",
       "  /* unfitted */\n",
       "  background-color: var(--sklearn-color-unfitted-level-0);\n",
       "}\n",
       "\n",
       "#sk-container-id-1 div.sk-estimator.fitted {\n",
       "  /* fitted */\n",
       "  background-color: var(--sklearn-color-fitted-level-0);\n",
       "}\n",
       "\n",
       "/* on hover */\n",
       "#sk-container-id-1 div.sk-estimator:hover {\n",
       "  /* unfitted */\n",
       "  background-color: var(--sklearn-color-unfitted-level-2);\n",
       "}\n",
       "\n",
       "#sk-container-id-1 div.sk-estimator.fitted:hover {\n",
       "  /* fitted */\n",
       "  background-color: var(--sklearn-color-fitted-level-2);\n",
       "}\n",
       "\n",
       "/* Specification for estimator info (e.g. \"i\" and \"?\") */\n",
       "\n",
       "/* Common style for \"i\" and \"?\" */\n",
       "\n",
       ".sk-estimator-doc-link,\n",
       "a:link.sk-estimator-doc-link,\n",
       "a:visited.sk-estimator-doc-link {\n",
       "  float: right;\n",
       "  font-size: smaller;\n",
       "  line-height: 1em;\n",
       "  font-family: monospace;\n",
       "  background-color: var(--sklearn-color-background);\n",
       "  border-radius: 1em;\n",
       "  height: 1em;\n",
       "  width: 1em;\n",
       "  text-decoration: none !important;\n",
       "  margin-left: 1ex;\n",
       "  /* unfitted */\n",
       "  border: var(--sklearn-color-unfitted-level-1) 1pt solid;\n",
       "  color: var(--sklearn-color-unfitted-level-1);\n",
       "}\n",
       "\n",
       ".sk-estimator-doc-link.fitted,\n",
       "a:link.sk-estimator-doc-link.fitted,\n",
       "a:visited.sk-estimator-doc-link.fitted {\n",
       "  /* fitted */\n",
       "  border: var(--sklearn-color-fitted-level-1) 1pt solid;\n",
       "  color: var(--sklearn-color-fitted-level-1);\n",
       "}\n",
       "\n",
       "/* On hover */\n",
       "div.sk-estimator:hover .sk-estimator-doc-link:hover,\n",
       ".sk-estimator-doc-link:hover,\n",
       "div.sk-label-container:hover .sk-estimator-doc-link:hover,\n",
       ".sk-estimator-doc-link:hover {\n",
       "  /* unfitted */\n",
       "  background-color: var(--sklearn-color-unfitted-level-3);\n",
       "  color: var(--sklearn-color-background);\n",
       "  text-decoration: none;\n",
       "}\n",
       "\n",
       "div.sk-estimator.fitted:hover .sk-estimator-doc-link.fitted:hover,\n",
       ".sk-estimator-doc-link.fitted:hover,\n",
       "div.sk-label-container:hover .sk-estimator-doc-link.fitted:hover,\n",
       ".sk-estimator-doc-link.fitted:hover {\n",
       "  /* fitted */\n",
       "  background-color: var(--sklearn-color-fitted-level-3);\n",
       "  color: var(--sklearn-color-background);\n",
       "  text-decoration: none;\n",
       "}\n",
       "\n",
       "/* Span, style for the box shown on hovering the info icon */\n",
       ".sk-estimator-doc-link span {\n",
       "  display: none;\n",
       "  z-index: 9999;\n",
       "  position: relative;\n",
       "  font-weight: normal;\n",
       "  right: .2ex;\n",
       "  padding: .5ex;\n",
       "  margin: .5ex;\n",
       "  width: min-content;\n",
       "  min-width: 20ex;\n",
       "  max-width: 50ex;\n",
       "  color: var(--sklearn-color-text);\n",
       "  box-shadow: 2pt 2pt 4pt #999;\n",
       "  /* unfitted */\n",
       "  background: var(--sklearn-color-unfitted-level-0);\n",
       "  border: .5pt solid var(--sklearn-color-unfitted-level-3);\n",
       "}\n",
       "\n",
       ".sk-estimator-doc-link.fitted span {\n",
       "  /* fitted */\n",
       "  background: var(--sklearn-color-fitted-level-0);\n",
       "  border: var(--sklearn-color-fitted-level-3);\n",
       "}\n",
       "\n",
       ".sk-estimator-doc-link:hover span {\n",
       "  display: block;\n",
       "}\n",
       "\n",
       "/* \"?\"-specific style due to the `<a>` HTML tag */\n",
       "\n",
       "#sk-container-id-1 a.estimator_doc_link {\n",
       "  float: right;\n",
       "  font-size: 1rem;\n",
       "  line-height: 1em;\n",
       "  font-family: monospace;\n",
       "  background-color: var(--sklearn-color-background);\n",
       "  border-radius: 1rem;\n",
       "  height: 1rem;\n",
       "  width: 1rem;\n",
       "  text-decoration: none;\n",
       "  /* unfitted */\n",
       "  color: var(--sklearn-color-unfitted-level-1);\n",
       "  border: var(--sklearn-color-unfitted-level-1) 1pt solid;\n",
       "}\n",
       "\n",
       "#sk-container-id-1 a.estimator_doc_link.fitted {\n",
       "  /* fitted */\n",
       "  border: var(--sklearn-color-fitted-level-1) 1pt solid;\n",
       "  color: var(--sklearn-color-fitted-level-1);\n",
       "}\n",
       "\n",
       "/* On hover */\n",
       "#sk-container-id-1 a.estimator_doc_link:hover {\n",
       "  /* unfitted */\n",
       "  background-color: var(--sklearn-color-unfitted-level-3);\n",
       "  color: var(--sklearn-color-background);\n",
       "  text-decoration: none;\n",
       "}\n",
       "\n",
       "#sk-container-id-1 a.estimator_doc_link.fitted:hover {\n",
       "  /* fitted */\n",
       "  background-color: var(--sklearn-color-fitted-level-3);\n",
       "}\n",
       "</style><div id=\"sk-container-id-1\" class=\"sk-top-container\"><div class=\"sk-text-repr-fallback\"><pre>Pipeline(steps=[(&#x27;onehotencoder&#x27;,\n",
       "                 OneHotEncoder(cols=[&#x27;city&#x27;], use_cat_names=True)),\n",
       "                (&#x27;simpleimputer&#x27;, SimpleImputer()), (&#x27;ridge&#x27;, Ridge())])</pre><b>In a Jupyter environment, please rerun this cell to show the HTML representation or trust the notebook. <br />On GitHub, the HTML representation is unable to render, please try loading this page with nbviewer.org.</b></div><div class=\"sk-container\" hidden><div class=\"sk-item sk-dashed-wrapped\"><div class=\"sk-label-container\"><div class=\"sk-label fitted sk-toggleable\"><input class=\"sk-toggleable__control sk-hidden--visually\" id=\"sk-estimator-id-1\" type=\"checkbox\" ><label for=\"sk-estimator-id-1\" class=\"sk-toggleable__label fitted sk-toggleable__label-arrow fitted\">&nbsp;&nbsp;Pipeline<a class=\"sk-estimator-doc-link fitted\" rel=\"noreferrer\" target=\"_blank\" href=\"https://scikit-learn.org/1.5/modules/generated/sklearn.pipeline.Pipeline.html\">?<span>Documentation for Pipeline</span></a><span class=\"sk-estimator-doc-link fitted\">i<span>Fitted</span></span></label><div class=\"sk-toggleable__content fitted\"><pre>Pipeline(steps=[(&#x27;onehotencoder&#x27;,\n",
       "                 OneHotEncoder(cols=[&#x27;city&#x27;], use_cat_names=True)),\n",
       "                (&#x27;simpleimputer&#x27;, SimpleImputer()), (&#x27;ridge&#x27;, Ridge())])</pre></div> </div></div><div class=\"sk-serial\"><div class=\"sk-item\"><div class=\"sk-estimator fitted sk-toggleable\"><input class=\"sk-toggleable__control sk-hidden--visually\" id=\"sk-estimator-id-2\" type=\"checkbox\" ><label for=\"sk-estimator-id-2\" class=\"sk-toggleable__label fitted sk-toggleable__label-arrow fitted\">OneHotEncoder</label><div class=\"sk-toggleable__content fitted\"><pre>OneHotEncoder(cols=[&#x27;city&#x27;], use_cat_names=True)</pre></div> </div></div><div class=\"sk-item\"><div class=\"sk-estimator fitted sk-toggleable\"><input class=\"sk-toggleable__control sk-hidden--visually\" id=\"sk-estimator-id-3\" type=\"checkbox\" ><label for=\"sk-estimator-id-3\" class=\"sk-toggleable__label fitted sk-toggleable__label-arrow fitted\">&nbsp;SimpleImputer<a class=\"sk-estimator-doc-link fitted\" rel=\"noreferrer\" target=\"_blank\" href=\"https://scikit-learn.org/1.5/modules/generated/sklearn.impute.SimpleImputer.html\">?<span>Documentation for SimpleImputer</span></a></label><div class=\"sk-toggleable__content fitted\"><pre>SimpleImputer()</pre></div> </div></div><div class=\"sk-item\"><div class=\"sk-estimator fitted sk-toggleable\"><input class=\"sk-toggleable__control sk-hidden--visually\" id=\"sk-estimator-id-4\" type=\"checkbox\" ><label for=\"sk-estimator-id-4\" class=\"sk-toggleable__label fitted sk-toggleable__label-arrow fitted\">&nbsp;Ridge<a class=\"sk-estimator-doc-link fitted\" rel=\"noreferrer\" target=\"_blank\" href=\"https://scikit-learn.org/1.5/modules/generated/sklearn.linear_model.Ridge.html\">?<span>Documentation for Ridge</span></a></label><div class=\"sk-toggleable__content fitted\"><pre>Ridge()</pre></div> </div></div></div></div></div></div>"
      ],
      "text/plain": [
       "Pipeline(steps=[('onehotencoder',\n",
       "                 OneHotEncoder(cols=['city'], use_cat_names=True)),\n",
       "                ('simpleimputer', SimpleImputer()), ('ridge', Ridge())])"
      ]
     },
     "execution_count": 11,
     "metadata": {},
     "output_type": "execute_result"
    }
   ],
   "source": [
    "  model.fit(X_train, y_train)"
   ]
  },
  {
   "cell_type": "markdown",
   "id": "ab69874d-6768-44a2-9173-56370af108fd",
   "metadata": {},
   "source": [
    "Calculating the training mean absolute error"
   ]
  },
  {
   "cell_type": "code",
   "execution_count": 12,
   "id": "95878424-cd4e-428f-98ff-5f03c4089b63",
   "metadata": {},
   "outputs": [
    {
     "name": "stdout",
     "output_type": "stream",
     "text": [
      "Training MAE: 133.79\n"
     ]
    }
   ],
   "source": [
    " y_pred_training = model.predict(X_train)\n",
    "mae_training = mean_absolute_error(y_train, y_pred_training)\n",
    "print(\"Training MAE:\", round(mae_training, 2))"
   ]
  },
  {
   "cell_type": "markdown",
   "id": "20dd6782-7027-4aae-9b97-1cb3dc9626cb",
   "metadata": {},
   "source": [
    "With a Training MAE less than my Baseline MAE This suggests that my model is effective at reducing error \n",
    "compared to a naive model."
   ]
  },
  {
   "cell_type": "markdown",
   "id": "be31d987-f9e2-4e53-ac6b-0723da21a52c",
   "metadata": {},
   "source": [
    "Importing my test Data"
   ]
  },
  {
   "cell_type": "code",
   "execution_count": 13,
   "id": "883aa822-d10b-4c9c-8dfe-048918aa9336",
   "metadata": {},
   "outputs": [],
   "source": [
    "X_test = pd.read_csv(\"realtor-data_test.csv\")"
   ]
  },
  {
   "cell_type": "code",
   "execution_count": 14,
   "id": "49561872-f4df-41de-a2d7-6a2734a94ec9",
   "metadata": {},
   "outputs": [],
   "source": [
    "X_test.drop(columns= [\"price_in_USD\",\"area_in_m2\",\"price_per_m2\"],inplace=True)"
   ]
  },
  {
   "cell_type": "markdown",
   "id": "c6e3b8a4-4871-4072-a341-3dc770644986",
   "metadata": {},
   "source": [
    "Using my model to generate a series of prediction for X_test"
   ]
  },
  {
   "cell_type": "code",
   "execution_count": 15,
   "id": "8567a356-979a-473b-8c65-e845b110ddf7",
   "metadata": {},
   "outputs": [],
   "source": [
    "y_test_pred = pd.Series(model.predict(X_test))"
   ]
  },
  {
   "cell_type": "code",
   "execution_count": 16,
   "id": "1b09c7b0-26cf-41cd-b36b-d1e19f057efd",
   "metadata": {},
   "outputs": [
    {
     "data": {
      "text/plain": [
       "0      200\n",
       "1      356\n",
       "2      150\n",
       "3      150\n",
       "4      150\n",
       "      ... \n",
       "181    356\n",
       "182    356\n",
       "183    356\n",
       "184    356\n",
       "185    356\n",
       "Length: 186, dtype: int32"
      ]
     },
     "execution_count": 16,
     "metadata": {},
     "output_type": "execute_result"
    }
   ],
   "source": [
    "y_test_pred.astype(int)"
   ]
  },
  {
   "cell_type": "code",
   "execution_count": 17,
   "id": "40f3342a-6436-43db-8b87-f775755ebf0a",
   "metadata": {},
   "outputs": [
    {
     "data": {
      "text/plain": [
       "city_Humacao           -5.72\n",
       "city_Fajardo           -7.02\n",
       "city_Vega Baja         -7.29\n",
       "city_Sabana Grande      7.35\n",
       "city_Penuelas         -12.26\n",
       "                       ...  \n",
       "city_Utuado          -122.96\n",
       "city_Naranjito       -128.27\n",
       "city_Trujillo Alto    177.70\n",
       "city_San Juan         216.68\n",
       "city_Guaynabo         274.28\n",
       "Length: 74, dtype: float64"
      ]
     },
     "execution_count": 17,
     "metadata": {},
     "output_type": "execute_result"
    }
   ],
   "source": [
    "coefficients = model.named_steps[\"ridge\"].coef_\n",
    "features = model.named_steps[\"onehotencoder\"].get_feature_names_out()\n",
    "feat_imp = pd.Series(coefficients, index=features).sort_values(key=abs).round(2)\n",
    "feat_imp"
   ]
  },
  {
   "cell_type": "markdown",
   "id": "26b3c1af-de21-4351-ad27-048d37fce0b9",
   "metadata": {},
   "source": [
    "Interpretation by visible output above: From the result above, the feature \"city_Guaynabo\" has the highest\n",
    "positive coefficient (\"274.28\"), meaning it has more significant positive impact on the target variable \n",
    "(\"house price\") when compaired to \"city_San Juan\" (\"216.68\"). The closer the coefficient is to zero, \n",
    "the less influence that feature (\"city\") has on the target variable (\"house price\")"
   ]
  },
  {
   "cell_type": "markdown",
   "id": "518c8341-c7ec-45e7-85cb-70cbcdb1d490",
   "metadata": {},
   "source": [
    "creating a horizontal bar chart that shows the 10 most influential coefficients for my model"
   ]
  },
  {
   "cell_type": "code",
   "execution_count": 18,
   "id": "43a1f069-c240-4194-a125-4f813f44c38c",
   "metadata": {},
   "outputs": [
    {
     "data": {
      "image/png": "[encoded data removed]",
      "text/plain": [
       "<Figure size 640x480 with 1 Axes>"
      ]
     },
     "metadata": {},
     "output_type": "display_data"
    }
   ],
   "source": [
    "feat_imp.tail(10).plot(kind=\"barh\")\n",
    "plt.xlabel(\"Importance [USD\")\n",
    "plt.ylabel(\"Feature\")\n",
    "plt.title(\"Feature Importance for Apartment Price\");"
   ]
  },
  {
   "cell_type": "markdown",
   "id": "d32d6e73-1540-4759-ab0d-a9967d65c687",
   "metadata": {},
   "source": [
    "Printing the equation that my model has determined for predicting house price based on city\n",
    "\n",
    "y = B0 + (B1*X1) + (B2*X2) + ... + (Bn*Xn)"
   ]
  },
  {
   "cell_type": "code",
   "execution_count": 19,
   "id": "4404d946-da43-4710-95ff-bbf9c422280d",
   "metadata": {},
   "outputs": [
    {
     "data": {
      "text/plain": [
       "255.5297162527304"
      ]
     },
     "execution_count": 19,
     "metadata": {},
     "output_type": "execute_result"
    }
   ],
   "source": [
    "intercept = model.named_steps[\"ridge\"].intercept_\n",
    "intercept"
   ]
  },
  {
   "cell_type": "code",
   "execution_count": 20,
   "id": "33938e27-2003-4855-b3c5-b768a0604df1",
   "metadata": {},
   "outputs": [
    {
     "name": "stdout",
     "output_type": "stream",
     "text": [
      "[ -15.6864775   -23.47085889   92.41777361 -102.69308111  -93.823773  ]\n"
     ]
    }
   ],
   "source": [
    "coefficients = model.named_steps[\"ridge\"].coef_\n",
    "print(coefficients[:5])"
   ]
  },
  {
   "cell_type": "code",
   "execution_count": 21,
   "id": "8f252cd6-16ca-459b-b42d-eb85a8cbb0b9",
   "metadata": {},
   "outputs": [
    {
     "name": "stdout",
     "output_type": "stream",
     "text": [
      "price = 255.53 + (-5.72 * city_Humacao) + (-7.02 * city_Fajardo) + ... + (274.28 * city_Guaynabo)\n"
     ]
    }
   ],
   "source": [
    "equation_parts = []\n",
    "feat_items = list(feat_imp.items())\n",
    "\n",
    "# Get the first two items\n",
    "for i, (f, c) in enumerate(feat_items[:2]):\n",
    "    equation_parts.append(f\"({round(c, 2)} * {f})\")\n",
    "\n",
    "# Add the last item\n",
    "f_last, c_last = feat_items[-1]\n",
    "equation_parts.append(f\"... + ({round(c_last, 2)} * {f_last})\")\n",
    "\n",
    "# Combine and print the equation\n",
    "equation = f\"price = {intercept.round(2)} + \" + \" + \".join(equation_parts)\n",
    "print(equation)"
   ]
  }
 ],
 "metadata": {
  "kernelspec": {
   "display_name": "Python 3 (ipykernel)",
   "language": "python",
   "name": "python3"
  },
  "language_info": {
   "codemirror_mode": {
    "name": "ipython",
    "version": 3
   },
   "file_extension": ".py",
   "mimetype": "text/x-python",
   "name": "python",
   "nbconvert_exporter": "python",
   "pygments_lexer": "ipython3",
   "version": "3.12.3"
  }
 },
 "nbformat": 4,
 "nbformat_minor": 5
}
