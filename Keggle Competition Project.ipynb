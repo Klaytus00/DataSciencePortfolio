{
 "cells": [
  {
   "cell_type": "markdown",
   "id": "f8a8f1af-4174-44e2-8348-23bc7f83455f",
   "metadata": {},
   "source": [
    "**Regression of Used Car Prices**\n",
    "\n",
    "Goal\n",
    "\n",
    "**To predict the price of used cars based on various attributes**"
   ]
  },
  {
   "cell_type": "markdown",
   "id": "1aca63e1-24e6-4d82-a321-d10e8120a739",
   "metadata": {},
   "source": [
    "Here is a detailed description of each some fields in the dataset:\n",
    "\n",
    "**model_year:**\n",
    "The year the vehicle model was manufactured. It is mapped directly to the model_year in the competition \n",
    "dataset and includes all combinations of years present. The age of the car typically affects its resale value.\n",
    "\n",
    "**brand:**\n",
    "The manufacturer of the vehicle. This field matches the brand in the competition dataset. Different brands have\n",
    "varying resale values based on their reliability, reputation, and demand.\n",
    "\n",
    "**model:**\n",
    "The specific model of the vehicle produced by the brand. This field is directly mapped to the model in the \n",
    "competition dataset. Different models, even within the same brand, can have significant variations in price.\n",
    "\n",
    "**type:**\n",
    "The classification of the vehicle, such as SUV, Coupe, Sedan, Convertible, or Van. Vehicle type influences \n",
    "the price as it relates to the utility, market demand, and intended use.\n",
    "\n",
    "**miles_per_gallon:**\n",
    "The fuel efficiency of the vehicle, measured in miles per gallon (MPG). Higher fuel efficiency is often \n",
    "associated with higher value due to lower operational costs.\n",
    "\n",
    "**premium_version:**\n",
    "A binary field indicating whether the car is a premium version (1) or not (0). Premium versions may include \n",
    "luxury features or higher-end specifications, which typically raise the vehicle's value.\n",
    "\n",
    "**msrp:**\n",
    "The Manufacturer's Suggested Retail Price (MSRP) when the car was new. This is a strong indicator of the car's\n",
    "original value and influences its depreciation rate and current market value.\n",
    "\n",
    "**collection_car:**\n",
    "A binary field indicating whether the car is considered a \"collector's item\" (1) or not (0). Collector cars \n",
    "tend to retain or increase their value over time due to rarity or historical significance."
   ]
  },
  {
   "cell_type": "code",
   "execution_count": 1,
   "id": "06571e6a-9ce2-4ecd-833d-013f03fd342d",
   "metadata": {},
   "outputs": [],
   "source": [
    "import pandas as pd\n",
    "import seaborn as sns\n",
    "import numpy as np\n",
    "from sklearn.metrics import mean_absolute_error, mean_squared_error\n",
    "from sklearn.model_selection import train_test_split\n",
    "from sklearn.linear_model import LinearRegression, Ridge\n",
    "from sklearn.pipeline import make_pipeline, Pipeline\n",
    "from sklearn.utils.validation import check_is_fitted\n",
    "from category_encoders import OneHotEncoder\n",
    "from sklearn.impute import SimpleImputer\n",
    "from sklearn.metrics import accuracy_score\n",
    "from sklearn.model_selection import GridSearchCV"
   ]
  },
  {
   "cell_type": "markdown",
   "id": "553028de-3b92-4e76-8c79-6166c890f257",
   "metadata": {},
   "source": [
    "df = pd.read_csv(\"Data/train.csv\")\n",
    "\n",
    "df_ext = pd.read_csv(\"Data/extended_data.csv\")"
   ]
  },
  {
   "cell_type": "markdown",
   "id": "550146dc-bca8-4aa1-8c86-53d43e7e7da1",
   "metadata": {},
   "source": [
    "df.head(3)"
   ]
  },
  {
   "cell_type": "markdown",
   "id": "cc856b2f-8bf2-4003-8cf5-112950e51890",
   "metadata": {},
   "source": [
    "df_ext.head(3)"
   ]
  },
  {
   "cell_type": "markdown",
   "id": "ddd46261-6c75-4b58-84c9-0e4dfddd3f29",
   "metadata": {},
   "source": [
    "modified_data = pd.merge(df, df_ext, on=[\"model_year\", \"brand\", \"model\"], how = \"inner\")"
   ]
  },
  {
   "cell_type": "markdown",
   "id": "22031213-c514-42d1-b7b8-35941c8264bd",
   "metadata": {},
   "source": [
    "modified_data.head()"
   ]
  },
  {
   "cell_type": "markdown",
   "id": "256d0786-7c5d-4c6c-8fc0-151fe4cd7b60",
   "metadata": {},
   "source": [
    "modified_data.to_csv(\"modified_data.csv\", index=False)"
   ]
  },
  {
   "cell_type": "code",
   "execution_count": 2,
   "id": "5f0cbb2a-a92a-4f82-ab6f-9102454cd591",
   "metadata": {},
   "outputs": [],
   "source": [
    "df = pd.read_csv(\"Data/modified_data.csv\")"
   ]
  },
  {
   "cell_type": "code",
   "execution_count": 3,
   "id": "ec5397f1-a76b-458d-8a71-616fade01c55",
   "metadata": {},
   "outputs": [],
   "source": [
    "df.set_index(\"id\", inplace=True)"
   ]
  },
  {
   "cell_type": "markdown",
   "id": "0dfab03a-b1e2-41e0-ad5a-79b7710ca75f",
   "metadata": {},
   "source": [
    "**Inspecting the Dataset**"
   ]
  },
  {
   "cell_type": "code",
   "execution_count": 4,
   "id": "19d4c1f8-0b06-45a7-a601-d447dfe59569",
   "metadata": {},
   "outputs": [
    {
     "data": {
      "text/html": [
       "<div>\n",
       "<style scoped>\n",
       "    .dataframe tbody tr th:only-of-type {\n",
       "        vertical-align: middle;\n",
       "    }\n",
       "\n",
       "    .dataframe tbody tr th {\n",
       "        vertical-align: top;\n",
       "    }\n",
       "\n",
       "    .dataframe thead th {\n",
       "        text-align: right;\n",
       "    }\n",
       "</style>\n",
       "<table border=\"1\" class=\"dataframe\">\n",
       "  <thead>\n",
       "    <tr style=\"text-align: right;\">\n",
       "      <th></th>\n",
       "      <th>brand</th>\n",
       "      <th>model</th>\n",
       "      <th>model_year</th>\n",
       "      <th>milage</th>\n",
       "      <th>fuel_type</th>\n",
       "      <th>engine</th>\n",
       "      <th>transmission</th>\n",
       "      <th>ext_col</th>\n",
       "      <th>int_col</th>\n",
       "      <th>accident</th>\n",
       "      <th>clean_title</th>\n",
       "      <th>price</th>\n",
       "      <th>type</th>\n",
       "      <th>miles_per_gallon</th>\n",
       "      <th>premium_version</th>\n",
       "      <th>msrp</th>\n",
       "      <th>collection_car</th>\n",
       "    </tr>\n",
       "    <tr>\n",
       "      <th>id</th>\n",
       "      <th></th>\n",
       "      <th></th>\n",
       "      <th></th>\n",
       "      <th></th>\n",
       "      <th></th>\n",
       "      <th></th>\n",
       "      <th></th>\n",
       "      <th></th>\n",
       "      <th></th>\n",
       "      <th></th>\n",
       "      <th></th>\n",
       "      <th></th>\n",
       "      <th></th>\n",
       "      <th></th>\n",
       "      <th></th>\n",
       "      <th></th>\n",
       "      <th></th>\n",
       "    </tr>\n",
       "  </thead>\n",
       "  <tbody>\n",
       "    <tr>\n",
       "      <th>0</th>\n",
       "      <td>MINI</td>\n",
       "      <td>Cooper S Base</td>\n",
       "      <td>2007</td>\n",
       "      <td>213000</td>\n",
       "      <td>Gasoline</td>\n",
       "      <td>172.0HP 1.6L 4 Cylinder Engine Gasoline Fuel</td>\n",
       "      <td>A/T</td>\n",
       "      <td>Yellow</td>\n",
       "      <td>Gray</td>\n",
       "      <td>None reported</td>\n",
       "      <td>Yes</td>\n",
       "      <td>4200</td>\n",
       "      <td>Hatchback</td>\n",
       "      <td>30.0</td>\n",
       "      <td>1</td>\n",
       "      <td>23000.0</td>\n",
       "      <td>0</td>\n",
       "    </tr>\n",
       "    <tr>\n",
       "      <th>1</th>\n",
       "      <td>Lincoln</td>\n",
       "      <td>LS V8</td>\n",
       "      <td>2002</td>\n",
       "      <td>143250</td>\n",
       "      <td>Gasoline</td>\n",
       "      <td>252.0HP 3.9L 8 Cylinder Engine Gasoline Fuel</td>\n",
       "      <td>A/T</td>\n",
       "      <td>Silver</td>\n",
       "      <td>Beige</td>\n",
       "      <td>At least 1 accident or damage reported</td>\n",
       "      <td>Yes</td>\n",
       "      <td>4999</td>\n",
       "      <td>Sedan</td>\n",
       "      <td>18.0</td>\n",
       "      <td>0</td>\n",
       "      <td>38500.0</td>\n",
       "      <td>0</td>\n",
       "    </tr>\n",
       "    <tr>\n",
       "      <th>2</th>\n",
       "      <td>Chevrolet</td>\n",
       "      <td>Silverado 2500 LT</td>\n",
       "      <td>2002</td>\n",
       "      <td>136731</td>\n",
       "      <td>E85 Flex Fuel</td>\n",
       "      <td>320.0HP 5.3L 8 Cylinder Engine Flex Fuel Capab...</td>\n",
       "      <td>A/T</td>\n",
       "      <td>Blue</td>\n",
       "      <td>Gray</td>\n",
       "      <td>None reported</td>\n",
       "      <td>Yes</td>\n",
       "      <td>13900</td>\n",
       "      <td>Pickup</td>\n",
       "      <td>14.0</td>\n",
       "      <td>0</td>\n",
       "      <td>29335.0</td>\n",
       "      <td>0</td>\n",
       "    </tr>\n",
       "    <tr>\n",
       "      <th>3</th>\n",
       "      <td>Genesis</td>\n",
       "      <td>G90 5.0 Ultimate</td>\n",
       "      <td>2017</td>\n",
       "      <td>19500</td>\n",
       "      <td>Gasoline</td>\n",
       "      <td>420.0HP 5.0L 8 Cylinder Engine Gasoline Fuel</td>\n",
       "      <td>Transmission w/Dual Shift Mode</td>\n",
       "      <td>Black</td>\n",
       "      <td>Black</td>\n",
       "      <td>None reported</td>\n",
       "      <td>Yes</td>\n",
       "      <td>45000</td>\n",
       "      <td>Sedan</td>\n",
       "      <td>15.0</td>\n",
       "      <td>1</td>\n",
       "      <td>70000.0</td>\n",
       "      <td>0</td>\n",
       "    </tr>\n",
       "    <tr>\n",
       "      <th>4</th>\n",
       "      <td>Mercedes-Benz</td>\n",
       "      <td>Metris Base</td>\n",
       "      <td>2021</td>\n",
       "      <td>7388</td>\n",
       "      <td>Gasoline</td>\n",
       "      <td>208.0HP 2.0L 4 Cylinder Engine Gasoline Fuel</td>\n",
       "      <td>7-Speed A/T</td>\n",
       "      <td>Black</td>\n",
       "      <td>Beige</td>\n",
       "      <td>None reported</td>\n",
       "      <td>Yes</td>\n",
       "      <td>97500</td>\n",
       "      <td>Minivan</td>\n",
       "      <td>19.0</td>\n",
       "      <td>0</td>\n",
       "      <td>33900.0</td>\n",
       "      <td>0</td>\n",
       "    </tr>\n",
       "  </tbody>\n",
       "</table>\n",
       "</div>"
      ],
      "text/plain": [
       "            brand              model  model_year  milage      fuel_type  \\\n",
       "id                                                                        \n",
       "0            MINI      Cooper S Base        2007  213000       Gasoline   \n",
       "1         Lincoln              LS V8        2002  143250       Gasoline   \n",
       "2       Chevrolet  Silverado 2500 LT        2002  136731  E85 Flex Fuel   \n",
       "3         Genesis   G90 5.0 Ultimate        2017   19500       Gasoline   \n",
       "4   Mercedes-Benz        Metris Base        2021    7388       Gasoline   \n",
       "\n",
       "                                               engine  \\\n",
       "id                                                      \n",
       "0        172.0HP 1.6L 4 Cylinder Engine Gasoline Fuel   \n",
       "1        252.0HP 3.9L 8 Cylinder Engine Gasoline Fuel   \n",
       "2   320.0HP 5.3L 8 Cylinder Engine Flex Fuel Capab...   \n",
       "3        420.0HP 5.0L 8 Cylinder Engine Gasoline Fuel   \n",
       "4        208.0HP 2.0L 4 Cylinder Engine Gasoline Fuel   \n",
       "\n",
       "                      transmission ext_col int_col  \\\n",
       "id                                                   \n",
       "0                              A/T  Yellow    Gray   \n",
       "1                              A/T  Silver   Beige   \n",
       "2                              A/T    Blue    Gray   \n",
       "3   Transmission w/Dual Shift Mode   Black   Black   \n",
       "4                      7-Speed A/T   Black   Beige   \n",
       "\n",
       "                                  accident clean_title  price       type  \\\n",
       "id                                                                         \n",
       "0                            None reported         Yes   4200  Hatchback   \n",
       "1   At least 1 accident or damage reported         Yes   4999      Sedan   \n",
       "2                            None reported         Yes  13900     Pickup   \n",
       "3                            None reported         Yes  45000      Sedan   \n",
       "4                            None reported         Yes  97500    Minivan   \n",
       "\n",
       "    miles_per_gallon  premium_version     msrp  collection_car  \n",
       "id                                                              \n",
       "0               30.0                1  23000.0               0  \n",
       "1               18.0                0  38500.0               0  \n",
       "2               14.0                0  29335.0               0  \n",
       "3               15.0                1  70000.0               0  \n",
       "4               19.0                0  33900.0               0  "
      ]
     },
     "execution_count": 4,
     "metadata": {},
     "output_type": "execute_result"
    }
   ],
   "source": [
    "df.head()"
   ]
  },
  {
   "cell_type": "code",
   "execution_count": 5,
   "id": "ac10f283-e81b-4872-8ccb-1668c49a83a6",
   "metadata": {},
   "outputs": [],
   "source": [
    "df.drop(columns=\"clean_title\", inplace=True)"
   ]
  },
  {
   "cell_type": "code",
   "execution_count": 6,
   "id": "0169fc26-2c43-438c-8824-8bf4c5f97da7",
   "metadata": {},
   "outputs": [
    {
     "data": {
      "text/plain": [
       "2"
      ]
     },
     "execution_count": 6,
     "metadata": {},
     "output_type": "execute_result"
    }
   ],
   "source": [
    "df[\"accident\"].nunique()"
   ]
  },
  {
   "cell_type": "code",
   "execution_count": 7,
   "id": "40e83b54-5d47-4b98-b322-69c95d14cc17",
   "metadata": {},
   "outputs": [
    {
     "data": {
      "text/plain": [
       "2"
      ]
     },
     "execution_count": 7,
     "metadata": {},
     "output_type": "execute_result"
    }
   ],
   "source": [
    "df[\"collection_car\"].nunique()"
   ]
  },
  {
   "cell_type": "code",
   "execution_count": 8,
   "id": "2ea253b7-24af-497b-97d6-5646cf86a433",
   "metadata": {},
   "outputs": [
    {
     "data": {
      "text/plain": [
       "2"
      ]
     },
     "execution_count": 8,
     "metadata": {},
     "output_type": "execute_result"
    }
   ],
   "source": [
    "df[\"premium_version\"].nunique()"
   ]
  },
  {
   "cell_type": "code",
   "execution_count": 9,
   "id": "7ead6700-68f4-43e6-97ad-126e49b31460",
   "metadata": {},
   "outputs": [
    {
     "data": {
      "text/plain": [
       "7"
      ]
     },
     "execution_count": 9,
     "metadata": {},
     "output_type": "execute_result"
    }
   ],
   "source": [
    "df[\"fuel_type\"].nunique()"
   ]
  },
  {
   "cell_type": "code",
   "execution_count": 10,
   "id": "a96db001-bfcc-4e13-8aa7-03f62c020ef3",
   "metadata": {},
   "outputs": [],
   "source": [
    "df.dropna(how=\"any\", inplace=True)"
   ]
  },
  {
   "cell_type": "code",
   "execution_count": 11,
   "id": "2f71cc39-2031-4e20-9d2a-297749179bf8",
   "metadata": {},
   "outputs": [],
   "source": [
    "df[\"miles_per_gallon\"] = df[\"miles_per_gallon\"].astype(\"int64\")\n",
    "df[\"msrp\"] = df[\"msrp\"].astype(\"int64\")"
   ]
  },
  {
   "cell_type": "code",
   "execution_count": 12,
   "id": "f84926d1-bf50-4498-8dca-28abe10eefae",
   "metadata": {},
   "outputs": [
    {
     "name": "stdout",
     "output_type": "stream",
     "text": [
      "<class 'pandas.core.frame.DataFrame'>\n",
      "Index: 181052 entries, 0 to 188532\n",
      "Data columns (total 16 columns):\n",
      " #   Column            Non-Null Count   Dtype \n",
      "---  ------            --------------   ----- \n",
      " 0   brand             181052 non-null  object\n",
      " 1   model             181052 non-null  object\n",
      " 2   model_year        181052 non-null  int64 \n",
      " 3   milage            181052 non-null  int64 \n",
      " 4   fuel_type         181052 non-null  object\n",
      " 5   engine            181052 non-null  object\n",
      " 6   transmission      181052 non-null  object\n",
      " 7   ext_col           181052 non-null  object\n",
      " 8   int_col           181052 non-null  object\n",
      " 9   accident          181052 non-null  object\n",
      " 10  price             181052 non-null  int64 \n",
      " 11  type              181052 non-null  object\n",
      " 12  miles_per_gallon  181052 non-null  int64 \n",
      " 13  premium_version   181052 non-null  int64 \n",
      " 14  msrp              181052 non-null  int64 \n",
      " 15  collection_car    181052 non-null  int64 \n",
      "dtypes: int64(7), object(9)\n",
      "memory usage: 23.5+ MB\n"
     ]
    }
   ],
   "source": [
    "df.info()"
   ]
  },
  {
   "cell_type": "markdown",
   "id": "2d88bd05-5d09-427b-b73a-13e46d27bc74",
   "metadata": {},
   "source": [
    "**Cleaning and Exploring the Dataset**"
   ]
  },
  {
   "cell_type": "code",
   "execution_count": 13,
   "id": "076f38f2-1a25-4222-9aed-8ce6dfbdcd26",
   "metadata": {},
   "outputs": [],
   "source": [
    "corr = df.select_dtypes(\"number\").drop(columns=\"price\").corr()"
   ]
  },
  {
   "cell_type": "code",
   "execution_count": 14,
   "id": "36520d8a-0faf-4067-85eb-48d8c20ce4ba",
   "metadata": {},
   "outputs": [
    {
     "data": {
      "image/png": "[encoded data removed]",
      "text/plain": [
       "<Figure size 640x480 with 2 Axes>"
      ]
     },
     "metadata": {},
     "output_type": "display_data"
    }
   ],
   "source": [
    "sns.heatmap(corr);"
   ]
  },
  {
   "cell_type": "code",
   "execution_count": 15,
   "id": "fa83e422-b32c-4c92-95f8-b12a2f4eb95b",
   "metadata": {},
   "outputs": [
    {
     "data": {
      "text/plain": [
       "0.2533269095507713"
      ]
     },
     "execution_count": 15,
     "metadata": {},
     "output_type": "execute_result"
    }
   ],
   "source": [
    "df[\"price\"].corr(df[\"msrp\"])"
   ]
  },
  {
   "cell_type": "code",
   "execution_count": 16,
   "id": "5300cd58-37de-442f-bcf7-d30ed94aaea2",
   "metadata": {},
   "outputs": [
    {
     "data": {
      "text/plain": [
       "0.1422607035015138"
      ]
     },
     "execution_count": 16,
     "metadata": {},
     "output_type": "execute_result"
    }
   ],
   "source": [
    "df[\"price\"].corr(df[\"collection_car\"])"
   ]
  },
  {
   "cell_type": "code",
   "execution_count": 17,
   "id": "96eeee98-72f8-432d-ab52-6ddbf08868e0",
   "metadata": {},
   "outputs": [
    {
     "data": {
      "text/plain": [
       "0.12648813670716813"
      ]
     },
     "execution_count": 17,
     "metadata": {},
     "output_type": "execute_result"
    }
   ],
   "source": [
    "df[\"price\"].corr(df[\"premium_version\"])"
   ]
  },
  {
   "cell_type": "code",
   "execution_count": 18,
   "id": "6c1fe65e-e820-4368-bd56-3d2a22daf025",
   "metadata": {},
   "outputs": [],
   "source": [
    "df.drop(columns = [\"collection_car\",\"premium_version\"], inplace=True)"
   ]
  },
  {
   "cell_type": "code",
   "execution_count": 19,
   "id": "e97ccafc-6501-49bb-96a3-96fde5e4a745",
   "metadata": {},
   "outputs": [
    {
     "data": {
      "text/plain": [
       "brand             57\n",
       "model           1888\n",
       "fuel_type          7\n",
       "engine          1108\n",
       "transmission      52\n",
       "ext_col          319\n",
       "int_col          156\n",
       "accident           2\n",
       "type               9\n",
       "dtype: int64"
      ]
     },
     "execution_count": 19,
     "metadata": {},
     "output_type": "execute_result"
    }
   ],
   "source": [
    "df.select_dtypes(\"object\").nunique()"
   ]
  },
  {
   "cell_type": "code",
   "execution_count": 20,
   "id": "ed1216bb-649e-46d3-81f7-ee4e85a773b0",
   "metadata": {},
   "outputs": [],
   "source": [
    "df.drop(columns = [\"model\",\"engine\",\"accident\",\"type\",\"fuel_type\",\"msrp\",\"miles_per_gallon\"], inplace = True)"
   ]
  },
  {
   "cell_type": "code",
   "execution_count": 21,
   "id": "04ccabb5-0113-4502-81ee-b60a57cf5e2d",
   "metadata": {},
   "outputs": [
    {
     "data": {
      "text/html": [
       "<div>\n",
       "<style scoped>\n",
       "    .dataframe tbody tr th:only-of-type {\n",
       "        vertical-align: middle;\n",
       "    }\n",
       "\n",
       "    .dataframe tbody tr th {\n",
       "        vertical-align: top;\n",
       "    }\n",
       "\n",
       "    .dataframe thead th {\n",
       "        text-align: right;\n",
       "    }\n",
       "</style>\n",
       "<table border=\"1\" class=\"dataframe\">\n",
       "  <thead>\n",
       "    <tr style=\"text-align: right;\">\n",
       "      <th></th>\n",
       "      <th>brand</th>\n",
       "      <th>model_year</th>\n",
       "      <th>milage</th>\n",
       "      <th>transmission</th>\n",
       "      <th>ext_col</th>\n",
       "      <th>int_col</th>\n",
       "      <th>price</th>\n",
       "    </tr>\n",
       "    <tr>\n",
       "      <th>id</th>\n",
       "      <th></th>\n",
       "      <th></th>\n",
       "      <th></th>\n",
       "      <th></th>\n",
       "      <th></th>\n",
       "      <th></th>\n",
       "      <th></th>\n",
       "    </tr>\n",
       "  </thead>\n",
       "  <tbody>\n",
       "    <tr>\n",
       "      <th>188528</th>\n",
       "      <td>Cadillac</td>\n",
       "      <td>2017</td>\n",
       "      <td>49000</td>\n",
       "      <td>Transmission w/Dual Shift Mode</td>\n",
       "      <td>White</td>\n",
       "      <td>Beige</td>\n",
       "      <td>27500</td>\n",
       "    </tr>\n",
       "    <tr>\n",
       "      <th>188529</th>\n",
       "      <td>Mercedes-Benz</td>\n",
       "      <td>2018</td>\n",
       "      <td>28600</td>\n",
       "      <td>8-Speed A/T</td>\n",
       "      <td>White</td>\n",
       "      <td>Black</td>\n",
       "      <td>30000</td>\n",
       "    </tr>\n",
       "    <tr>\n",
       "      <th>188530</th>\n",
       "      <td>Mercedes-Benz</td>\n",
       "      <td>2021</td>\n",
       "      <td>13650</td>\n",
       "      <td>7-Speed A/T</td>\n",
       "      <td>White</td>\n",
       "      <td>Black</td>\n",
       "      <td>86900</td>\n",
       "    </tr>\n",
       "    <tr>\n",
       "      <th>188531</th>\n",
       "      <td>Audi</td>\n",
       "      <td>2022</td>\n",
       "      <td>13895</td>\n",
       "      <td>1-Speed Automatic</td>\n",
       "      <td>Daytona Gray Pearl Effect</td>\n",
       "      <td>Black</td>\n",
       "      <td>84900</td>\n",
       "    </tr>\n",
       "    <tr>\n",
       "      <th>188532</th>\n",
       "      <td>Porsche</td>\n",
       "      <td>2016</td>\n",
       "      <td>59500</td>\n",
       "      <td>Transmission w/Dual Shift Mode</td>\n",
       "      <td>White</td>\n",
       "      <td>Black</td>\n",
       "      <td>28995</td>\n",
       "    </tr>\n",
       "  </tbody>\n",
       "</table>\n",
       "</div>"
      ],
      "text/plain": [
       "                brand  model_year  milage                    transmission  \\\n",
       "id                                                                          \n",
       "188528       Cadillac        2017   49000  Transmission w/Dual Shift Mode   \n",
       "188529  Mercedes-Benz        2018   28600                     8-Speed A/T   \n",
       "188530  Mercedes-Benz        2021   13650                     7-Speed A/T   \n",
       "188531           Audi        2022   13895               1-Speed Automatic   \n",
       "188532        Porsche        2016   59500  Transmission w/Dual Shift Mode   \n",
       "\n",
       "                          ext_col int_col  price  \n",
       "id                                                \n",
       "188528                      White   Beige  27500  \n",
       "188529                      White   Black  30000  \n",
       "188530                      White   Black  86900  \n",
       "188531  Daytona Gray Pearl Effect   Black  84900  \n",
       "188532                      White   Black  28995  "
      ]
     },
     "execution_count": 21,
     "metadata": {},
     "output_type": "execute_result"
    }
   ],
   "source": [
    "df.tail()"
   ]
  },
  {
   "cell_type": "markdown",
   "id": "b2e12dc8-a0e7-4772-bab9-e93265dc1087",
   "metadata": {},
   "source": [
    "**Creating my Feature Matrix and Target Vector**"
   ]
  },
  {
   "cell_type": "code",
   "execution_count": 22,
   "id": "d6d16e01-8d22-445f-98c1-f8ce69657d12",
   "metadata": {},
   "outputs": [],
   "source": [
    "target = \"price\"\n",
    "feature = [\"brand\",\"model_year\",\"milage\",\"transmission\",\"ext_col\",\"int_col\"]\n",
    "y_train = df[target]\n",
    "X_train = df[feature]"
   ]
  },
  {
   "cell_type": "markdown",
   "id": "c3dbac5e-212a-4fbb-a9df-88d332a725c8",
   "metadata": {},
   "source": [
    "**Dividing my Data into Training and Validation Set**"
   ]
  },
  {
   "cell_type": "code",
   "execution_count": 23,
   "id": "db3c608b-2764-4556-83dc-dcdcfd1fdc6f",
   "metadata": {},
   "outputs": [],
   "source": [
    "X_train, X_val, y_train, y_val = train_test_split(\n",
    "    X_train,y_train,test_size = 0.3,random_state=42\n",
    ")"
   ]
  },
  {
   "cell_type": "markdown",
   "id": "91edfebb-329e-439d-a879-4d13a3bd90a4",
   "metadata": {},
   "source": [
    "**Calculating my Baseline MAE**"
   ]
  },
  {
   "cell_type": "code",
   "execution_count": 24,
   "id": "604cc389-350b-41ee-8742-de7d204584c6",
   "metadata": {},
   "outputs": [
    {
     "name": "stdout",
     "output_type": "stream",
     "text": [
      "Mean car price: 43257.81\n",
      "Baseline MAE: 28822.32\n"
     ]
    }
   ],
   "source": [
    "y_mean = y_train.mean()\n",
    "y_pred_baseline = [y_mean]*len(y_train)\n",
    "print(\"Mean car price:\", round(y_mean, 2))\n",
    "print(\"Baseline MAE:\", mean_absolute_error(y_train, y_pred_baseline).round(2))"
   ]
  },
  {
   "cell_type": "markdown",
   "id": "d80b7975-7f3f-484b-a835-41aa8e96ee64",
   "metadata": {},
   "source": [
    "**Building my Model**"
   ]
  },
  {
   "cell_type": "code",
   "execution_count": 25,
   "id": "a3b648d4-1b33-4a98-8fe2-e35d50dcfbe1",
   "metadata": {},
   "outputs": [
    {
     "data": {
      "text/html": [
       "<style>#sk-container-id-1 {\n",
       "  /* Definition of color scheme common for light and dark mode */\n",
       "  --sklearn-color-text: black;\n",
       "  --sklearn-color-line: gray;\n",
       "  /* Definition of color scheme for unfitted estimators */\n",
       "  --sklearn-color-unfitted-level-0: #fff5e6;\n",
       "  --sklearn-color-unfitted-level-1: #f6e4d2;\n",
       "  --sklearn-color-unfitted-level-2: #ffe0b3;\n",
       "  --sklearn-color-unfitted-level-3: chocolate;\n",
       "  /* Definition of color scheme for fitted estimators */\n",
       "  --sklearn-color-fitted-level-0: #f0f8ff;\n",
       "  --sklearn-color-fitted-level-1: #d4ebff;\n",
       "  --sklearn-color-fitted-level-2: #b3dbfd;\n",
       "  --sklearn-color-fitted-level-3: cornflowerblue;\n",
       "\n",
       "  /* Specific color for light theme */\n",
       "  --sklearn-color-text-on-default-background: var(--sg-text-color, var(--theme-code-foreground, var(--jp-content-font-color1, black)));\n",
       "  --sklearn-color-background: var(--sg-background-color, var(--theme-background, var(--jp-layout-color0, white)));\n",
       "  --sklearn-color-border-box: var(--sg-text-color, var(--theme-code-foreground, var(--jp-content-font-color1, black)));\n",
       "  --sklearn-color-icon: #696969;\n",
       "\n",
       "  @media (prefers-color-scheme: dark) {\n",
       "    /* Redefinition of color scheme for dark theme */\n",
       "    --sklearn-color-text-on-default-background: var(--sg-text-color, var(--theme-code-foreground, var(--jp-content-font-color1, white)));\n",
       "    --sklearn-color-background: var(--sg-background-color, var(--theme-background, var(--jp-layout-color0, #111)));\n",
       "    --sklearn-color-border-box: var(--sg-text-color, var(--theme-code-foreground, var(--jp-content-font-color1, white)));\n",
       "    --sklearn-color-icon: #878787;\n",
       "  }\n",
       "}\n",
       "\n",
       "#sk-container-id-1 {\n",
       "  color: var(--sklearn-color-text);\n",
       "}\n",
       "\n",
       "#sk-container-id-1 pre {\n",
       "  padding: 0;\n",
       "}\n",
       "\n",
       "#sk-container-id-1 input.sk-hidden--visually {\n",
       "  border: 0;\n",
       "  clip: rect(1px 1px 1px 1px);\n",
       "  clip: rect(1px, 1px, 1px, 1px);\n",
       "  height: 1px;\n",
       "  margin: -1px;\n",
       "  overflow: hidden;\n",
       "  padding: 0;\n",
       "  position: absolute;\n",
       "  width: 1px;\n",
       "}\n",
       "\n",
       "#sk-container-id-1 div.sk-dashed-wrapped {\n",
       "  border: 1px dashed var(--sklearn-color-line);\n",
       "  margin: 0 0.4em 0.5em 0.4em;\n",
       "  box-sizing: border-box;\n",
       "  padding-bottom: 0.4em;\n",
       "  background-color: var(--sklearn-color-background);\n",
       "}\n",
       "\n",
       "#sk-container-id-1 div.sk-container {\n",
       "  /* jupyter's `normalize.less` sets `[hidden] { display: none; }`\n",
       "     but bootstrap.min.css set `[hidden] { display: none !important; }`\n",
       "     so we also need the `!important` here to be able to override the\n",
       "     default hidden behavior on the sphinx rendered scikit-learn.org.\n",
       "     See: https://github.com/scikit-learn/scikit-learn/issues/21755 */\n",
       "  display: inline-block !important;\n",
       "  position: relative;\n",
       "}\n",
       "\n",
       "#sk-container-id-1 div.sk-text-repr-fallback {\n",
       "  display: none;\n",
       "}\n",
       "\n",
       "div.sk-parallel-item,\n",
       "div.sk-serial,\n",
       "div.sk-item {\n",
       "  /* draw centered vertical line to link estimators */\n",
       "  background-image: linear-gradient(var(--sklearn-color-text-on-default-background), var(--sklearn-color-text-on-default-background));\n",
       "  background-size: 2px 100%;\n",
       "  background-repeat: no-repeat;\n",
       "  background-position: center center;\n",
       "}\n",
       "\n",
       "/* Parallel-specific style estimator block */\n",
       "\n",
       "#sk-container-id-1 div.sk-parallel-item::after {\n",
       "  content: \"\";\n",
       "  width: 100%;\n",
       "  border-bottom: 2px solid var(--sklearn-color-text-on-default-background);\n",
       "  flex-grow: 1;\n",
       "}\n",
       "\n",
       "#sk-container-id-1 div.sk-parallel {\n",
       "  display: flex;\n",
       "  align-items: stretch;\n",
       "  justify-content: center;\n",
       "  background-color: var(--sklearn-color-background);\n",
       "  position: relative;\n",
       "}\n",
       "\n",
       "#sk-container-id-1 div.sk-parallel-item {\n",
       "  display: flex;\n",
       "  flex-direction: column;\n",
       "}\n",
       "\n",
       "#sk-container-id-1 div.sk-parallel-item:first-child::after {\n",
       "  align-self: flex-end;\n",
       "  width: 50%;\n",
       "}\n",
       "\n",
       "#sk-container-id-1 div.sk-parallel-item:last-child::after {\n",
       "  align-self: flex-start;\n",
       "  width: 50%;\n",
       "}\n",
       "\n",
       "#sk-container-id-1 div.sk-parallel-item:only-child::after {\n",
       "  width: 0;\n",
       "}\n",
       "\n",
       "/* Serial-specific style estimator block */\n",
       "\n",
       "#sk-container-id-1 div.sk-serial {\n",
       "  display: flex;\n",
       "  flex-direction: column;\n",
       "  align-items: center;\n",
       "  background-color: var(--sklearn-color-background);\n",
       "  padding-right: 1em;\n",
       "  padding-left: 1em;\n",
       "}\n",
       "\n",
       "\n",
       "/* Toggleable style: style used for estimator/Pipeline/ColumnTransformer box that is\n",
       "clickable and can be expanded/collapsed.\n",
       "- Pipeline and ColumnTransformer use this feature and define the default style\n",
       "- Estimators will overwrite some part of the style using the `sk-estimator` class\n",
       "*/\n",
       "\n",
       "/* Pipeline and ColumnTransformer style (default) */\n",
       "\n",
       "#sk-container-id-1 div.sk-toggleable {\n",
       "  /* Default theme specific background. It is overwritten whether we have a\n",
       "  specific estimator or a Pipeline/ColumnTransformer */\n",
       "  background-color: var(--sklearn-color-background);\n",
       "}\n",
       "\n",
       "/* Toggleable label */\n",
       "#sk-container-id-1 label.sk-toggleable__label {\n",
       "  cursor: pointer;\n",
       "  display: block;\n",
       "  width: 100%;\n",
       "  margin-bottom: 0;\n",
       "  padding: 0.5em;\n",
       "  box-sizing: border-box;\n",
       "  text-align: center;\n",
       "}\n",
       "\n",
       "#sk-container-id-1 label.sk-toggleable__label-arrow:before {\n",
       "  /* Arrow on the left of the label */\n",
       "  content: \"▸\";\n",
       "  float: left;\n",
       "  margin-right: 0.25em;\n",
       "  color: var(--sklearn-color-icon);\n",
       "}\n",
       "\n",
       "#sk-container-id-1 label.sk-toggleable__label-arrow:hover:before {\n",
       "  color: var(--sklearn-color-text);\n",
       "}\n",
       "\n",
       "/* Toggleable content - dropdown */\n",
       "\n",
       "#sk-container-id-1 div.sk-toggleable__content {\n",
       "  max-height: 0;\n",
       "  max-width: 0;\n",
       "  overflow: hidden;\n",
       "  text-align: left;\n",
       "  /* unfitted */\n",
       "  background-color: var(--sklearn-color-unfitted-level-0);\n",
       "}\n",
       "\n",
       "#sk-container-id-1 div.sk-toggleable__content.fitted {\n",
       "  /* fitted */\n",
       "  background-color: var(--sklearn-color-fitted-level-0);\n",
       "}\n",
       "\n",
       "#sk-container-id-1 div.sk-toggleable__content pre {\n",
       "  margin: 0.2em;\n",
       "  border-radius: 0.25em;\n",
       "  color: var(--sklearn-color-text);\n",
       "  /* unfitted */\n",
       "  background-color: var(--sklearn-color-unfitted-level-0);\n",
       "}\n",
       "\n",
       "#sk-container-id-1 div.sk-toggleable__content.fitted pre {\n",
       "  /* unfitted */\n",
       "  background-color: var(--sklearn-color-fitted-level-0);\n",
       "}\n",
       "\n",
       "#sk-container-id-1 input.sk-toggleable__control:checked~div.sk-toggleable__content {\n",
       "  /* Expand drop-down */\n",
       "  max-height: 200px;\n",
       "  max-width: 100%;\n",
       "  overflow: auto;\n",
       "}\n",
       "\n",
       "#sk-container-id-1 input.sk-toggleable__control:checked~label.sk-toggleable__label-arrow:before {\n",
       "  content: \"▾\";\n",
       "}\n",
       "\n",
       "/* Pipeline/ColumnTransformer-specific style */\n",
       "\n",
       "#sk-container-id-1 div.sk-label input.sk-toggleable__control:checked~label.sk-toggleable__label {\n",
       "  color: var(--sklearn-color-text);\n",
       "  background-color: var(--sklearn-color-unfitted-level-2);\n",
       "}\n",
       "\n",
       "#sk-container-id-1 div.sk-label.fitted input.sk-toggleable__control:checked~label.sk-toggleable__label {\n",
       "  background-color: var(--sklearn-color-fitted-level-2);\n",
       "}\n",
       "\n",
       "/* Estimator-specific style */\n",
       "\n",
       "/* Colorize estimator box */\n",
       "#sk-container-id-1 div.sk-estimator input.sk-toggleable__control:checked~label.sk-toggleable__label {\n",
       "  /* unfitted */\n",
       "  background-color: var(--sklearn-color-unfitted-level-2);\n",
       "}\n",
       "\n",
       "#sk-container-id-1 div.sk-estimator.fitted input.sk-toggleable__control:checked~label.sk-toggleable__label {\n",
       "  /* fitted */\n",
       "  background-color: var(--sklearn-color-fitted-level-2);\n",
       "}\n",
       "\n",
       "#sk-container-id-1 div.sk-label label.sk-toggleable__label,\n",
       "#sk-container-id-1 div.sk-label label {\n",
       "  /* The background is the default theme color */\n",
       "  color: var(--sklearn-color-text-on-default-background);\n",
       "}\n",
       "\n",
       "/* On hover, darken the color of the background */\n",
       "#sk-container-id-1 div.sk-label:hover label.sk-toggleable__label {\n",
       "  color: var(--sklearn-color-text);\n",
       "  background-color: var(--sklearn-color-unfitted-level-2);\n",
       "}\n",
       "\n",
       "/* Label box, darken color on hover, fitted */\n",
       "#sk-container-id-1 div.sk-label.fitted:hover label.sk-toggleable__label.fitted {\n",
       "  color: var(--sklearn-color-text);\n",
       "  background-color: var(--sklearn-color-fitted-level-2);\n",
       "}\n",
       "\n",
       "/* Estimator label */\n",
       "\n",
       "#sk-container-id-1 div.sk-label label {\n",
       "  font-family: monospace;\n",
       "  font-weight: bold;\n",
       "  display: inline-block;\n",
       "  line-height: 1.2em;\n",
       "}\n",
       "\n",
       "#sk-container-id-1 div.sk-label-container {\n",
       "  text-align: center;\n",
       "}\n",
       "\n",
       "/* Estimator-specific */\n",
       "#sk-container-id-1 div.sk-estimator {\n",
       "  font-family: monospace;\n",
       "  border: 1px dotted var(--sklearn-color-border-box);\n",
       "  border-radius: 0.25em;\n",
       "  box-sizing: border-box;\n",
       "  margin-bottom: 0.5em;\n",
       "  /* unfitted */\n",
       "  background-color: var(--sklearn-color-unfitted-level-0);\n",
       "}\n",
       "\n",
       "#sk-container-id-1 div.sk-estimator.fitted {\n",
       "  /* fitted */\n",
       "  background-color: var(--sklearn-color-fitted-level-0);\n",
       "}\n",
       "\n",
       "/* on hover */\n",
       "#sk-container-id-1 div.sk-estimator:hover {\n",
       "  /* unfitted */\n",
       "  background-color: var(--sklearn-color-unfitted-level-2);\n",
       "}\n",
       "\n",
       "#sk-container-id-1 div.sk-estimator.fitted:hover {\n",
       "  /* fitted */\n",
       "  background-color: var(--sklearn-color-fitted-level-2);\n",
       "}\n",
       "\n",
       "/* Specification for estimator info (e.g. \"i\" and \"?\") */\n",
       "\n",
       "/* Common style for \"i\" and \"?\" */\n",
       "\n",
       ".sk-estimator-doc-link,\n",
       "a:link.sk-estimator-doc-link,\n",
       "a:visited.sk-estimator-doc-link {\n",
       "  float: right;\n",
       "  font-size: smaller;\n",
       "  line-height: 1em;\n",
       "  font-family: monospace;\n",
       "  background-color: var(--sklearn-color-background);\n",
       "  border-radius: 1em;\n",
       "  height: 1em;\n",
       "  width: 1em;\n",
       "  text-decoration: none !important;\n",
       "  margin-left: 1ex;\n",
       "  /* unfitted */\n",
       "  border: var(--sklearn-color-unfitted-level-1) 1pt solid;\n",
       "  color: var(--sklearn-color-unfitted-level-1);\n",
       "}\n",
       "\n",
       ".sk-estimator-doc-link.fitted,\n",
       "a:link.sk-estimator-doc-link.fitted,\n",
       "a:visited.sk-estimator-doc-link.fitted {\n",
       "  /* fitted */\n",
       "  border: var(--sklearn-color-fitted-level-1) 1pt solid;\n",
       "  color: var(--sklearn-color-fitted-level-1);\n",
       "}\n",
       "\n",
       "/* On hover */\n",
       "div.sk-estimator:hover .sk-estimator-doc-link:hover,\n",
       ".sk-estimator-doc-link:hover,\n",
       "div.sk-label-container:hover .sk-estimator-doc-link:hover,\n",
       ".sk-estimator-doc-link:hover {\n",
       "  /* unfitted */\n",
       "  background-color: var(--sklearn-color-unfitted-level-3);\n",
       "  color: var(--sklearn-color-background);\n",
       "  text-decoration: none;\n",
       "}\n",
       "\n",
       "div.sk-estimator.fitted:hover .sk-estimator-doc-link.fitted:hover,\n",
       ".sk-estimator-doc-link.fitted:hover,\n",
       "div.sk-label-container:hover .sk-estimator-doc-link.fitted:hover,\n",
       ".sk-estimator-doc-link.fitted:hover {\n",
       "  /* fitted */\n",
       "  background-color: var(--sklearn-color-fitted-level-3);\n",
       "  color: var(--sklearn-color-background);\n",
       "  text-decoration: none;\n",
       "}\n",
       "\n",
       "/* Span, style for the box shown on hovering the info icon */\n",
       ".sk-estimator-doc-link span {\n",
       "  display: none;\n",
       "  z-index: 9999;\n",
       "  position: relative;\n",
       "  font-weight: normal;\n",
       "  right: .2ex;\n",
       "  padding: .5ex;\n",
       "  margin: .5ex;\n",
       "  width: min-content;\n",
       "  min-width: 20ex;\n",
       "  max-width: 50ex;\n",
       "  color: var(--sklearn-color-text);\n",
       "  box-shadow: 2pt 2pt 4pt #999;\n",
       "  /* unfitted */\n",
       "  background: var(--sklearn-color-unfitted-level-0);\n",
       "  border: .5pt solid var(--sklearn-color-unfitted-level-3);\n",
       "}\n",
       "\n",
       ".sk-estimator-doc-link.fitted span {\n",
       "  /* fitted */\n",
       "  background: var(--sklearn-color-fitted-level-0);\n",
       "  border: var(--sklearn-color-fitted-level-3);\n",
       "}\n",
       "\n",
       ".sk-estimator-doc-link:hover span {\n",
       "  display: block;\n",
       "}\n",
       "\n",
       "/* \"?\"-specific style due to the `<a>` HTML tag */\n",
       "\n",
       "#sk-container-id-1 a.estimator_doc_link {\n",
       "  float: right;\n",
       "  font-size: 1rem;\n",
       "  line-height: 1em;\n",
       "  font-family: monospace;\n",
       "  background-color: var(--sklearn-color-background);\n",
       "  border-radius: 1rem;\n",
       "  height: 1rem;\n",
       "  width: 1rem;\n",
       "  text-decoration: none;\n",
       "  /* unfitted */\n",
       "  color: var(--sklearn-color-unfitted-level-1);\n",
       "  border: var(--sklearn-color-unfitted-level-1) 1pt solid;\n",
       "}\n",
       "\n",
       "#sk-container-id-1 a.estimator_doc_link.fitted {\n",
       "  /* fitted */\n",
       "  border: var(--sklearn-color-fitted-level-1) 1pt solid;\n",
       "  color: var(--sklearn-color-fitted-level-1);\n",
       "}\n",
       "\n",
       "/* On hover */\n",
       "#sk-container-id-1 a.estimator_doc_link:hover {\n",
       "  /* unfitted */\n",
       "  background-color: var(--sklearn-color-unfitted-level-3);\n",
       "  color: var(--sklearn-color-background);\n",
       "  text-decoration: none;\n",
       "}\n",
       "\n",
       "#sk-container-id-1 a.estimator_doc_link.fitted:hover {\n",
       "  /* fitted */\n",
       "  background-color: var(--sklearn-color-fitted-level-3);\n",
       "}\n",
       "</style><div id=\"sk-container-id-1\" class=\"sk-top-container\"><div class=\"sk-text-repr-fallback\"><pre>Pipeline(steps=[(&#x27;onehotencoder&#x27;,\n",
       "                 OneHotEncoder(cols=[&#x27;brand&#x27;, &#x27;transmission&#x27;, &#x27;ext_col&#x27;,\n",
       "                                     &#x27;int_col&#x27;],\n",
       "                               use_cat_names=True)),\n",
       "                (&#x27;simpleimputer&#x27;, SimpleImputer()), (&#x27;ridge&#x27;, Ridge())])</pre><b>In a Jupyter environment, please rerun this cell to show the HTML representation or trust the notebook. <br />On GitHub, the HTML representation is unable to render, please try loading this page with nbviewer.org.</b></div><div class=\"sk-container\" hidden><div class=\"sk-item sk-dashed-wrapped\"><div class=\"sk-label-container\"><div class=\"sk-label fitted sk-toggleable\"><input class=\"sk-toggleable__control sk-hidden--visually\" id=\"sk-estimator-id-1\" type=\"checkbox\" ><label for=\"sk-estimator-id-1\" class=\"sk-toggleable__label fitted sk-toggleable__label-arrow fitted\">&nbsp;&nbsp;Pipeline<a class=\"sk-estimator-doc-link fitted\" rel=\"noreferrer\" target=\"_blank\" href=\"https://scikit-learn.org/1.5/modules/generated/sklearn.pipeline.Pipeline.html\">?<span>Documentation for Pipeline</span></a><span class=\"sk-estimator-doc-link fitted\">i<span>Fitted</span></span></label><div class=\"sk-toggleable__content fitted\"><pre>Pipeline(steps=[(&#x27;onehotencoder&#x27;,\n",
       "                 OneHotEncoder(cols=[&#x27;brand&#x27;, &#x27;transmission&#x27;, &#x27;ext_col&#x27;,\n",
       "                                     &#x27;int_col&#x27;],\n",
       "                               use_cat_names=True)),\n",
       "                (&#x27;simpleimputer&#x27;, SimpleImputer()), (&#x27;ridge&#x27;, Ridge())])</pre></div> </div></div><div class=\"sk-serial\"><div class=\"sk-item\"><div class=\"sk-estimator fitted sk-toggleable\"><input class=\"sk-toggleable__control sk-hidden--visually\" id=\"sk-estimator-id-2\" type=\"checkbox\" ><label for=\"sk-estimator-id-2\" class=\"sk-toggleable__label fitted sk-toggleable__label-arrow fitted\">OneHotEncoder</label><div class=\"sk-toggleable__content fitted\"><pre>OneHotEncoder(cols=[&#x27;brand&#x27;, &#x27;transmission&#x27;, &#x27;ext_col&#x27;, &#x27;int_col&#x27;],\n",
       "              use_cat_names=True)</pre></div> </div></div><div class=\"sk-item\"><div class=\"sk-estimator fitted sk-toggleable\"><input class=\"sk-toggleable__control sk-hidden--visually\" id=\"sk-estimator-id-3\" type=\"checkbox\" ><label for=\"sk-estimator-id-3\" class=\"sk-toggleable__label fitted sk-toggleable__label-arrow fitted\">&nbsp;SimpleImputer<a class=\"sk-estimator-doc-link fitted\" rel=\"noreferrer\" target=\"_blank\" href=\"https://scikit-learn.org/1.5/modules/generated/sklearn.impute.SimpleImputer.html\">?<span>Documentation for SimpleImputer</span></a></label><div class=\"sk-toggleable__content fitted\"><pre>SimpleImputer()</pre></div> </div></div><div class=\"sk-item\"><div class=\"sk-estimator fitted sk-toggleable\"><input class=\"sk-toggleable__control sk-hidden--visually\" id=\"sk-estimator-id-4\" type=\"checkbox\" ><label for=\"sk-estimator-id-4\" class=\"sk-toggleable__label fitted sk-toggleable__label-arrow fitted\">&nbsp;Ridge<a class=\"sk-estimator-doc-link fitted\" rel=\"noreferrer\" target=\"_blank\" href=\"https://scikit-learn.org/1.5/modules/generated/sklearn.linear_model.Ridge.html\">?<span>Documentation for Ridge</span></a></label><div class=\"sk-toggleable__content fitted\"><pre>Ridge()</pre></div> </div></div></div></div></div></div>"
      ],
      "text/plain": [
       "Pipeline(steps=[('onehotencoder',\n",
       "                 OneHotEncoder(cols=['brand', 'transmission', 'ext_col',\n",
       "                                     'int_col'],\n",
       "                               use_cat_names=True)),\n",
       "                ('simpleimputer', SimpleImputer()), ('ridge', Ridge())])"
      ]
     },
     "execution_count": 25,
     "metadata": {},
     "output_type": "execute_result"
    }
   ],
   "source": [
    "model = make_pipeline(\n",
    "    OneHotEncoder (use_cat_names = True),\n",
    "    SimpleImputer(),\n",
    "    Ridge()\n",
    ")\n",
    "model.fit(X_train, y_train)"
   ]
  },
  {
   "cell_type": "markdown",
   "id": "73ee18b6-52ea-4f4c-b999-d4899694d232",
   "metadata": {},
   "source": [
    "**Testing my Model on My Training Data**"
   ]
  },
  {
   "cell_type": "code",
   "execution_count": 26,
   "id": "768dc94c-aacf-4462-adef-36c6e659e427",
   "metadata": {},
   "outputs": [
    {
     "name": "stdout",
     "output_type": "stream",
     "text": [
      "Training MAE: 22210.24\n"
     ]
    }
   ],
   "source": [
    "y_pred_training = model.predict(X_train)\n",
    "print(\"Training MAE:\", mean_absolute_error(y_train, y_pred_training).round(2))"
   ]
  },
  {
   "cell_type": "markdown",
   "id": "5cbc3f2e-3656-40b4-ada6-c89c0e76474a",
   "metadata": {},
   "source": [
    "**Testing my Model on my Validation Data**"
   ]
  },
  {
   "cell_type": "code",
   "execution_count": 27,
   "id": "0610e80f-ae06-47f4-a42e-6143787fe939",
   "metadata": {},
   "outputs": [
    {
     "name": "stdout",
     "output_type": "stream",
     "text": [
      "Validation MAE: 22481.44\n",
      "Validation MSE: 5985874636.59\n",
      "Validation R2: 0.10760286702330624\n"
     ]
    }
   ],
   "source": [
    "y_pred_val = model.predict(X_val)\n",
    "MAE = mean_absolute_error(y_val, y_pred_val)\n",
    "MSE = mean_squared_error(y_val, y_pred_val)\n",
    "r2 = model.score(X_val, y_val)\n",
    "print(\"Validation MAE:\", MAE.round(2))\n",
    "print(\"Validation MSE:\", MSE.round(2))\n",
    "print(\"Validation R2:\", r2)"
   ]
  },
  {
   "cell_type": "markdown",
   "id": "962a47d8-b66b-4291-8905-602bbcbc8d17",
   "metadata": {},
   "source": [
    "**From the results above my model improved upon the baseline, indicating that it captures\n",
    "meaningful patterns. When it comes to the close proximity of the training and validation\n",
    "MAEs suggests that my model is neither overfitting nor underfitting and is likely \n",
    "well-tuned for the data.**"
   ]
  },
  {
   "cell_type": "markdown",
   "id": "1cfad6bc-4cd1-462f-b774-18381948ef9a",
   "metadata": {},
   "source": [
    "**Using my Model to Predict Prices of Used Cars based on Various Attributes**"
   ]
  },
  {
   "cell_type": "code",
   "execution_count": 28,
   "id": "c843f052-77aa-4f2b-8790-b57bfcaf2de6",
   "metadata": {},
   "outputs": [],
   "source": [
    "test = pd.read_csv(\"Data/test.csv\")"
   ]
  },
  {
   "cell_type": "code",
   "execution_count": 29,
   "id": "13b420b4-222d-4073-b825-86f4551d46da",
   "metadata": {},
   "outputs": [],
   "source": [
    "X_test = test[[\"brand\", \"model_year\", \"milage\",\"transmission\", \"ext_col\", \"int_col\"]]"
   ]
  },
  {
   "cell_type": "code",
   "execution_count": 30,
   "id": "6fecbd71-41b1-4399-8a65-e32f775470ea",
   "metadata": {},
   "outputs": [],
   "source": [
    "test_id = test[[\"id\"]]"
   ]
  },
  {
   "cell_type": "code",
   "execution_count": 31,
   "id": "1ef1bf0e-833e-4086-9303-287598917a91",
   "metadata": {},
   "outputs": [
    {
     "data": {
      "text/html": [
       "<div>\n",
       "<style scoped>\n",
       "    .dataframe tbody tr th:only-of-type {\n",
       "        vertical-align: middle;\n",
       "    }\n",
       "\n",
       "    .dataframe tbody tr th {\n",
       "        vertical-align: top;\n",
       "    }\n",
       "\n",
       "    .dataframe thead th {\n",
       "        text-align: right;\n",
       "    }\n",
       "</style>\n",
       "<table border=\"1\" class=\"dataframe\">\n",
       "  <thead>\n",
       "    <tr style=\"text-align: right;\">\n",
       "      <th></th>\n",
       "      <th>id</th>\n",
       "    </tr>\n",
       "  </thead>\n",
       "  <tbody>\n",
       "    <tr>\n",
       "      <th>0</th>\n",
       "      <td>188533</td>\n",
       "    </tr>\n",
       "    <tr>\n",
       "      <th>1</th>\n",
       "      <td>188534</td>\n",
       "    </tr>\n",
       "    <tr>\n",
       "      <th>2</th>\n",
       "      <td>188535</td>\n",
       "    </tr>\n",
       "    <tr>\n",
       "      <th>3</th>\n",
       "      <td>188536</td>\n",
       "    </tr>\n",
       "    <tr>\n",
       "      <th>4</th>\n",
       "      <td>188537</td>\n",
       "    </tr>\n",
       "    <tr>\n",
       "      <th>...</th>\n",
       "      <td>...</td>\n",
       "    </tr>\n",
       "    <tr>\n",
       "      <th>125685</th>\n",
       "      <td>314218</td>\n",
       "    </tr>\n",
       "    <tr>\n",
       "      <th>125686</th>\n",
       "      <td>314219</td>\n",
       "    </tr>\n",
       "    <tr>\n",
       "      <th>125687</th>\n",
       "      <td>314220</td>\n",
       "    </tr>\n",
       "    <tr>\n",
       "      <th>125688</th>\n",
       "      <td>314221</td>\n",
       "    </tr>\n",
       "    <tr>\n",
       "      <th>125689</th>\n",
       "      <td>314222</td>\n",
       "    </tr>\n",
       "  </tbody>\n",
       "</table>\n",
       "<p>125690 rows × 1 columns</p>\n",
       "</div>"
      ],
      "text/plain": [
       "            id\n",
       "0       188533\n",
       "1       188534\n",
       "2       188535\n",
       "3       188536\n",
       "4       188537\n",
       "...        ...\n",
       "125685  314218\n",
       "125686  314219\n",
       "125687  314220\n",
       "125688  314221\n",
       "125689  314222\n",
       "\n",
       "[125690 rows x 1 columns]"
      ]
     },
     "execution_count": 31,
     "metadata": {},
     "output_type": "execute_result"
    }
   ],
   "source": [
    "test_id"
   ]
  },
  {
   "cell_type": "code",
   "execution_count": 32,
   "id": "5888efd9-f95a-410d-a71c-fd68b54ee064",
   "metadata": {},
   "outputs": [],
   "source": [
    "test_pred = pd.Series(model.predict(X_test),name=\"Price\")"
   ]
  },
  {
   "cell_type": "code",
   "execution_count": 33,
   "id": "8f6f1efb-69b4-4c2d-9979-639666b638e4",
   "metadata": {},
   "outputs": [],
   "source": [
    "test_pred = test_pred.astype(\"int64\")"
   ]
  },
  {
   "cell_type": "code",
   "execution_count": 34,
   "id": "fe0d2c10-4d5e-4213-a02c-8954a18b624e",
   "metadata": {},
   "outputs": [
    {
     "data": {
      "text/html": [
       "<div>\n",
       "<style scoped>\n",
       "    .dataframe tbody tr th:only-of-type {\n",
       "        vertical-align: middle;\n",
       "    }\n",
       "\n",
       "    .dataframe tbody tr th {\n",
       "        vertical-align: top;\n",
       "    }\n",
       "\n",
       "    .dataframe thead th {\n",
       "        text-align: right;\n",
       "    }\n",
       "</style>\n",
       "<table border=\"1\" class=\"dataframe\">\n",
       "  <thead>\n",
       "    <tr style=\"text-align: right;\">\n",
       "      <th></th>\n",
       "      <th>Price</th>\n",
       "    </tr>\n",
       "  </thead>\n",
       "  <tbody>\n",
       "    <tr>\n",
       "      <th>0</th>\n",
       "      <td>27538</td>\n",
       "    </tr>\n",
       "    <tr>\n",
       "      <th>1</th>\n",
       "      <td>67100</td>\n",
       "    </tr>\n",
       "    <tr>\n",
       "      <th>2</th>\n",
       "      <td>55945</td>\n",
       "    </tr>\n",
       "    <tr>\n",
       "      <th>3</th>\n",
       "      <td>39784</td>\n",
       "    </tr>\n",
       "    <tr>\n",
       "      <th>4</th>\n",
       "      <td>39263</td>\n",
       "    </tr>\n",
       "    <tr>\n",
       "      <th>...</th>\n",
       "      <td>...</td>\n",
       "    </tr>\n",
       "    <tr>\n",
       "      <th>125685</th>\n",
       "      <td>37997</td>\n",
       "    </tr>\n",
       "    <tr>\n",
       "      <th>125686</th>\n",
       "      <td>47049</td>\n",
       "    </tr>\n",
       "    <tr>\n",
       "      <th>125687</th>\n",
       "      <td>25750</td>\n",
       "    </tr>\n",
       "    <tr>\n",
       "      <th>125688</th>\n",
       "      <td>16243</td>\n",
       "    </tr>\n",
       "    <tr>\n",
       "      <th>125689</th>\n",
       "      <td>41662</td>\n",
       "    </tr>\n",
       "  </tbody>\n",
       "</table>\n",
       "<p>125690 rows × 1 columns</p>\n",
       "</div>"
      ],
      "text/plain": [
       "        Price\n",
       "0       27538\n",
       "1       67100\n",
       "2       55945\n",
       "3       39784\n",
       "4       39263\n",
       "...       ...\n",
       "125685  37997\n",
       "125686  47049\n",
       "125687  25750\n",
       "125688  16243\n",
       "125689  41662\n",
       "\n",
       "[125690 rows x 1 columns]"
      ]
     },
     "execution_count": 34,
     "metadata": {},
     "output_type": "execute_result"
    }
   ],
   "source": [
    "test_pred_df = test_pred.to_frame()\n",
    "test_pred_df"
   ]
  },
  {
   "cell_type": "code",
   "execution_count": 35,
   "id": "251fbc1b-229b-4bbb-9581-fb88ec129402",
   "metadata": {},
   "outputs": [],
   "source": [
    "Predicted_price = pd.concat([test_id,test_pred_df], axis=1)\n",
    "Predicted_price.set_index(\"id\", inplace=True)"
   ]
  },
  {
   "cell_type": "code",
   "execution_count": 36,
   "id": "3400430d-4b2d-48d3-a112-7dd3d7a3379b",
   "metadata": {},
   "outputs": [
    {
     "data": {
      "text/html": [
       "<div>\n",
       "<style scoped>\n",
       "    .dataframe tbody tr th:only-of-type {\n",
       "        vertical-align: middle;\n",
       "    }\n",
       "\n",
       "    .dataframe tbody tr th {\n",
       "        vertical-align: top;\n",
       "    }\n",
       "\n",
       "    .dataframe thead th {\n",
       "        text-align: right;\n",
       "    }\n",
       "</style>\n",
       "<table border=\"1\" class=\"dataframe\">\n",
       "  <thead>\n",
       "    <tr style=\"text-align: right;\">\n",
       "      <th></th>\n",
       "      <th>Price</th>\n",
       "    </tr>\n",
       "    <tr>\n",
       "      <th>id</th>\n",
       "      <th></th>\n",
       "    </tr>\n",
       "  </thead>\n",
       "  <tbody>\n",
       "    <tr>\n",
       "      <th>188533</th>\n",
       "      <td>27538</td>\n",
       "    </tr>\n",
       "    <tr>\n",
       "      <th>188534</th>\n",
       "      <td>67100</td>\n",
       "    </tr>\n",
       "    <tr>\n",
       "      <th>188535</th>\n",
       "      <td>55945</td>\n",
       "    </tr>\n",
       "    <tr>\n",
       "      <th>188536</th>\n",
       "      <td>39784</td>\n",
       "    </tr>\n",
       "    <tr>\n",
       "      <th>188537</th>\n",
       "      <td>39263</td>\n",
       "    </tr>\n",
       "  </tbody>\n",
       "</table>\n",
       "</div>"
      ],
      "text/plain": [
       "        Price\n",
       "id           \n",
       "188533  27538\n",
       "188534  67100\n",
       "188535  55945\n",
       "188536  39784\n",
       "188537  39263"
      ]
     },
     "execution_count": 36,
     "metadata": {},
     "output_type": "execute_result"
    }
   ],
   "source": [
    "Predicted_price.head()"
   ]
  },
  {
   "cell_type": "code",
   "execution_count": 47,
   "id": "a20f330b-1820-4af2-960d-31241341b262",
   "metadata": {},
   "outputs": [],
   "source": [
    "Predicted_price.to_csv(\"Predicted_price.csv\", index=True)"
   ]
  }
 ],
 "metadata": {
  "kernelspec": {
   "display_name": "Python 3 (ipykernel)",
   "language": "python",
   "name": "python3"
  },
  "language_info": {
   "codemirror_mode": {
    "name": "ipython",
    "version": 3
   },
   "file_extension": ".py",
   "mimetype": "text/x-python",
   "name": "python",
   "nbconvert_exporter": "python",
   "pygments_lexer": "ipython3",
   "version": "3.12.3"
  }
 },
 "nbformat": 4,
 "nbformat_minor": 5
}
